{
 "cells": [
  {
   "cell_type": "markdown",
   "metadata": {},
   "source": [
    "### Pandas, part 2\n",
    "There are many ways to achieve the same output with Pandas.  In this drill we review practice using world travel data from the The World Bank https://data.worldbank.org/indicator/ST.INT.ARVL.\n",
    "\n",
    "First import this \"travelData.csv\" file and get to know the data.  \n",
    "What are the columns and rows?\n"
   ]
  },
  {
   "cell_type": "code",
   "execution_count": null,
   "metadata": {},
   "outputs": [],
   "source": []
  },
  {
   "cell_type": "markdown",
   "metadata": {},
   "source": [
    "We won't need the Indicator_Name and Ind_Code columns. So remove 'em.\n",
    "Let's set the Country_Name as the index and then sort in ascending order.\n",
    "Check the order by viewing only the Country_Name column."
   ]
  },
  {
   "cell_type": "code",
   "execution_count": null,
   "metadata": {},
   "outputs": [],
   "source": []
  },
  {
   "cell_type": "markdown",
   "metadata": {},
   "source": [
    "Even if not entirely applicable yet, what are quartiles, count, min and max, etc., of these data?"
   ]
  },
  {
   "cell_type": "code",
   "execution_count": null,
   "metadata": {},
   "outputs": [],
   "source": []
  },
  {
   "cell_type": "markdown",
   "metadata": {},
   "source": [
    "Exponential notation is fine but for our purposes, let's pretty up the data by formatting them with commas and round off to 0 decimal places."
   ]
  },
  {
   "cell_type": "code",
   "execution_count": null,
   "metadata": {},
   "outputs": [],
   "source": []
  },
  {
   "cell_type": "markdown",
   "metadata": {},
   "source": [
    "The data range from 1995 to 2016.  We want to create two new columns: one for 1995-1999 and one from 2000-2016.  Let's call them 20thCent and 21stCent. (Try two techniques for identifying the columns, such as a list and a slice.)"
   ]
  },
  {
   "cell_type": "code",
   "execution_count": null,
   "metadata": {},
   "outputs": [],
   "source": []
  },
  {
   "cell_type": "markdown",
   "metadata": {},
   "source": [
    "What are the numbers of travellers to Angola for each year between 1998-2002 inclusive?"
   ]
  },
  {
   "cell_type": "code",
   "execution_count": null,
   "metadata": {},
   "outputs": [],
   "source": []
  },
  {
   "cell_type": "markdown",
   "metadata": {},
   "source": [
    "List the countries in ascending order of their change in travellers between 1995-2015.\n",
    "It might be more useful upon seeing the output to categorize the countries into 10 or so bix (given the range of the data, from 0 to almost 1,000,000,000) ...  Once you've made the bins, take another look and write a function to change any NaN values into something, such as 0.03, so there's a known error throughout the dataset and preventing any division or multiplication of 0.\n"
   ]
  },
  {
   "cell_type": "code",
   "execution_count": null,
   "metadata": {
    "collapsed": true
   },
   "outputs": [],
   "source": []
  }
 ],
 "metadata": {
  "kernelspec": {
   "display_name": "Python 3",
   "language": "python",
   "name": "python3"
  },
  "language_info": {
   "codemirror_mode": {
    "name": "ipython",
    "version": 3
   },
   "file_extension": ".py",
   "mimetype": "text/x-python",
   "name": "python",
   "nbconvert_exporter": "python",
   "pygments_lexer": "ipython3",
   "version": "3.6.4"
  }
 },
 "nbformat": 4,
 "nbformat_minor": 2
}
