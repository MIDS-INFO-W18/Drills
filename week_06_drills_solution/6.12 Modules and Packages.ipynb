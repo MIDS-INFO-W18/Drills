{
 "cells": [
  {
   "cell_type": "markdown",
   "metadata": {},
   "source": [
    "## Modules & Packages\n",
    "Working sequentially from single .py files to packages and import statements."
   ]
  },
  {
   "cell_type": "markdown",
   "metadata": {},
   "source": [
    "Write and run a .py file.  Use a text editor (e.g., \"atestfile.py\") and then execute that file in your computer's terminal window.  Note that for some users, the default version might be 2.7; the current version is 3.7.  If you're using 3.6 you might need to use python3 versus python.  [But if you've installed 3.7, you'll probably be able just to use \"python\".  Check it out.]"
   ]
  },
  {
   "cell_type": "markdown",
   "metadata": {},
   "source": [
    "Interacting with the operating system is also an important skill.  Write a small .py file and execute that file in the Jupyter Notebook.  "
   ]
  },
  {
   "cell_type": "markdown",
   "metadata": {},
   "source": [
    "Here's a code snippet.  Write a script that will output the 3 arguments passed to a function.  For example import sys print(...).  For this drill you'll have to use the ! command to invoke the interpreter in Jupyter."
   ]
  },
  {
   "cell_type": "code",
   "execution_count": 1,
   "metadata": {},
   "outputs": [
    {
     "name": "stdout",
     "output_type": "stream",
     "text": [
      "This snippet prints the 3 arguments passed to the command.\n",
      "C:\\Users\\cla\\AppData\\Local\\conda\\conda\\envs\\py3\\lib\\site-packages\\ipykernel_launcher.py -f C:\\Users\\cla\\AppData\\Roaming\\jupyter\\runtime\\kernel-0d827d07-5fe9-4893-841c-cd3abca01f33.json\n"
     ]
    }
   ],
   "source": [
    "import sys\n",
    "\n",
    "print(\"This snippet prints the 3 arguments passed to the command.\")\n",
    "# finish the exercise here.\n",
    "\n",
    "print(sys.argv[0], sys.argv[1], sys.argv[2])"
   ]
  },
  {
   "cell_type": "markdown",
   "metadata": {},
   "source": [
    "A package is a collection of .py files (used as modules) and stored in a shared folder.  Create a folder, write some code snippets, and then turn this folder into a \"package\" using the __init__.py command.  [Remember to use an empty file...]"
   ]
  },
  {
   "cell_type": "code",
   "execution_count": 2,
   "metadata": {},
   "outputs": [
    {
     "name": "stdout",
     "output_type": "stream",
     "text": [
      "Overwriting ./mymodule/atestfile.py\n"
     ]
    }
   ],
   "source": [
    "%%writefile ./mymodule/atestfile.py\n",
    "\n",
    "def test():\n",
    "    print(\"This is my test file!\")"
   ]
  },
  {
   "cell_type": "code",
   "execution_count": 3,
   "metadata": {},
   "outputs": [
    {
     "name": "stdout",
     "output_type": "stream",
     "text": [
      "Overwriting ./mymodule/__init__.py\n"
     ]
    }
   ],
   "source": [
    "%%writefile ./mymodule/__init__.py\n",
    "\n"
   ]
  },
  {
   "cell_type": "code",
   "execution_count": 6,
   "metadata": {},
   "outputs": [
    {
     "name": "stdout",
     "output_type": "stream",
     "text": [
      "This is my test file!\n"
     ]
    }
   ],
   "source": [
    "# this is a stub of an example for you to develop\n",
    "from mymodule import atestfile\n",
    "\n",
    "atestfile.test()\n",
    "\n"
   ]
  },
  {
   "cell_type": "code",
   "execution_count": null,
   "metadata": {},
   "outputs": [],
   "source": []
  }
 ],
 "metadata": {
  "kernelspec": {
   "display_name": "Python 3",
   "language": "python",
   "name": "python3"
  },
  "language_info": {
   "codemirror_mode": {
    "name": "ipython",
    "version": 3
   },
   "file_extension": ".py",
   "mimetype": "text/x-python",
   "name": "python",
   "nbconvert_exporter": "python",
   "pygments_lexer": "ipython3",
   "version": "3.6.7"
  }
 },
 "nbformat": 4,
 "nbformat_minor": 2
}
