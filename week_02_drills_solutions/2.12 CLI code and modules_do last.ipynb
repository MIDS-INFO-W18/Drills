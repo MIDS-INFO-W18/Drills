{
 "cells": [
  {
   "cell_type": "markdown",
   "metadata": {
    "collapsed": true
   },
   "source": [
    "# 2.12 make a module \n",
    "- A module is a text file that you can call from the command line\n",
    "\n",
    "- Use the code that you developed in the 2.13-14 drills \n",
    "- Save it as a .py file"
   ]
  },
  {
   "cell_type": "code",
   "execution_count": 4,
   "metadata": {
    "collapsed": true
   },
   "outputs": [],
   "source": [
    "!touch my_first.py\n",
    "# we could use \"camel case\" for the name MyFirst.py. This is pretty, \n",
    "# however this is no the best practice because it is so easy to forget which letters are capitalized!\n"
   ]
  },
  {
   "cell_type": "code",
   "execution_count": 5,
   "metadata": {},
   "outputs": [
    {
     "name": "stdout",
     "output_type": "stream",
     "text": [
      "2.03 Anaconda Distribution.ipynb\r\n",
      "2.04-05 Starting Python and Objects.ipynb\r\n",
      "2.06 Objects and Types.ipynb\r\n",
      "2.07-08 Numbers.ipynb\r\n",
      "2.07-2.08 Numbers.ipynb\r\n",
      "2.10-11 Variables.ipynb\r\n",
      "2.12 CLI code and modules_do last.ipynb\r\n",
      "2.13 -14 control and while loops.ipynb\r\n",
      "Myfirst.py\r\n",
      "my_first.py\r\n"
     ]
    }
   ],
   "source": [
    "!ls"
   ]
  },
  {
   "cell_type": "markdown",
   "metadata": {},
   "source": [
    "### now open your file browser or text editor and paste the code into the new .py file\n",
    "\n",
    "- inspect it in this notebook using command line arguments\n",
    "\n",
    ">!cat"
   ]
  },
  {
   "cell_type": "code",
   "execution_count": 7,
   "metadata": {},
   "outputs": [
    {
     "name": "stdout",
     "output_type": "stream",
     "text": [
      "x=int(input(\"please enter an integer \"))\r\n",
      "row=x\r\n",
      "\r\n",
      "# row loop \r\n",
      "while row >-1:\r\n",
      "    row=row-1\r\n",
      "    #column loop\r\n",
      "    col=x\r\n",
      "    while col >-1:\r\n",
      "        if col%2==0: \r\n",
      "            print ('__', end=\"\")\r\n",
      "        else:\r\n",
      "            print (\"$$\", end=\"\")\r\n",
      "        col=col-1   \r\n",
      "    print (\"\")\r\n",
      "    print (\"\")"
     ]
    }
   ],
   "source": [
    "!cat my_first.py"
   ]
  },
  {
   "cell_type": "markdown",
   "metadata": {
    "collapsed": true
   },
   "source": [
    "### Try to run it from this notebook using !python3\n",
    "\n",
    "- What happens?\n",
    "- Why?\n",
    "- What will you do?"
   ]
  },
  {
   "cell_type": "markdown",
   "metadata": {
    "collapsed": true
   },
   "source": [
    "!python3 my_first.py"
   ]
  },
  {
   "cell_type": "markdown",
   "metadata": {
    "collapsed": true
   },
   "source": [
    "# If that did not work  go back to the command line and invoke it from there!"
   ]
  }
 ],
 "metadata": {
  "kernelspec": {
   "display_name": "Python 3",
   "language": "python",
   "name": "python3"
  },
  "language_info": {
   "codemirror_mode": {
    "name": "ipython",
    "version": 3
   },
   "file_extension": ".py",
   "mimetype": "text/x-python",
   "name": "python",
   "nbconvert_exporter": "python",
   "pygments_lexer": "ipython3",
   "version": "3.6.1"
  }
 },
 "nbformat": 4,
 "nbformat_minor": 2
}
