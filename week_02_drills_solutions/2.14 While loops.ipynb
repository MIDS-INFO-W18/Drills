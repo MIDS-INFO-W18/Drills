{
 "cells": [
  {
   "cell_type": "markdown",
   "metadata": {},
   "source": [
    "## 2.14 control and while loops"
   ]
  },
  {
   "cell_type": "markdown",
   "metadata": {
    "collapsed": true
   },
   "source": []
  },
  {
   "cell_type": "markdown",
   "metadata": {
    "collapsed": true
   },
   "source": [
    "### Lets say you are searching for odd numbers in a dataset, write code that gives a reinforcing signal when you find an odd number but nothing when you find an even number\n",
    "- Have the program ask for a number test whether it iseven or odd using % as show in the asysch\n",
    "- if it is even print \"__\"\n",
    "- if it is odd print \"$$\"\n",
    "- Hint: make sure your input has the correct type"
   ]
  },
  {
   "cell_type": "code",
   "execution_count": null,
   "metadata": {
    "collapsed": true
   },
   "outputs": [],
   "source": [
    "x=int(input(\"please enter an integer \"))\n",
    "if x%2 == 0:\n",
    "    print('__')\n",
    "else:\n",
    "    print('$$')\n"
   ]
  },
  {
   "cell_type": "markdown",
   "metadata": {},
   "source": [
    "##  As shown in the Async, use input() and a while loop to print a column of numbers counting down to 0\n",
    "\n",
    "- The program prompts \"enter a number\" \n",
    "\n",
    "- I type 5\n",
    "\n",
    "\n",
    "> 5\n",
    "\n",
    "> 4\n",
    "\n",
    "> 3\n",
    "\n",
    "> 2\n",
    "\n",
    "> 1\n",
    "\n",
    "> 0\n",
    "\n",
    "\n"
   ]
  },
  {
   "cell_type": "code",
   "execution_count": 25,
   "metadata": {},
   "outputs": [
    {
     "name": "stdout",
     "output_type": "stream",
     "text": [
      "please enter an integer 5\n",
      "5 \n",
      "4 \n",
      "3 \n",
      "2 \n",
      "1 \n",
      "0 \n"
     ]
    }
   ],
   "source": [
    "x=int(input(\"please enter an integer \"))\n",
    "while x >-1:\n",
    "    print (x, \"\")\n",
    "    x=x-1\n"
   ]
  },
  {
   "cell_type": "markdown",
   "metadata": {
    "collapsed": true
   },
   "source": [
    "### Modify the code to be a count rocket count down\n",
    "\n",
    "> T-Minus\n",
    "\n",
    "> 5\n",
    "\n",
    "> T-Minus\n",
    "\n",
    "> 4\n",
    "\n",
    "> T-Minus\n",
    "\n",
    "> 3\n",
    "\n",
    "> T-Minus\n",
    "\n",
    "> 2\n",
    "\n",
    "> T-Minus\n",
    "\n",
    "> 1\n",
    "\n",
    "> T-Minus\n",
    "\n",
    "> 0\n",
    "\n",
    "> Blast Off!\n",
    "\n"
   ]
  },
  {
   "cell_type": "code",
   "execution_count": 26,
   "metadata": {},
   "outputs": [
    {
     "name": "stdout",
     "output_type": "stream",
     "text": [
      "please enter an integer 5\n",
      "T-minus\n",
      "5 \n",
      "T-minus\n",
      "4 \n",
      "T-minus\n",
      "3 \n",
      "T-minus\n",
      "2 \n",
      "T-minus\n",
      "1 \n",
      "T-minus\n",
      "0 \n",
      "blast off!\n"
     ]
    }
   ],
   "source": [
    "x=int(input(\"please enter an integer \"))\n",
    "while x >-1:\n",
    "    print ('T-minus')\n",
    "    print (x, \"\")\n",
    "    x=x-1\n",
    "print ('blast off!')\n"
   ]
  },
  {
   "cell_type": "markdown",
   "metadata": {
    "collapsed": true
   },
   "source": [
    "### Modify the code with a nested loop to make a square of the size that you specify in the begining\n",
    "###\n",
    "\n",
    "- print the row number as many times as there are rows then count down to 0\n",
    "\n",
    "- so if I put in 5, i will get 5 rows from the outer loop and 5 columns from the inner loop\n",
    "\n",
    "- Hint it will make it easier use comments to psudocode this \n",
    "    * this means use comment to write \"# row loop\" and \"#column loop\" before you start\n",
    "    * you can also change variables to have informative names like \"row\" and \"col\"\n",
    "    \n",
    "- Hint use print(\"\") to force a new line\n",
    "\n",
    "> 5 4 3 2 1 0\n",
    "\n",
    "> 5 4 3 2 1 0\n",
    "\n",
    "> 5 4 3 2 1 0\n",
    "\n",
    "> 5 4 3 2 1 0\n",
    "\n",
    "> 5 4 3 2 1 0\n",
    "\n",
    "\n",
    "\n"
   ]
  },
  {
   "cell_type": "code",
   "execution_count": 37,
   "metadata": {},
   "outputs": [
    {
     "name": "stdout",
     "output_type": "stream",
     "text": [
      "please enter an integer 5\n",
      "543210\n",
      "\n",
      "543210\n",
      "\n",
      "543210\n",
      "\n",
      "543210\n",
      "\n",
      "543210\n",
      "\n",
      "543210\n",
      "\n"
     ]
    }
   ],
   "source": [
    "########################\n",
    "###### PSEUDOCODE ######\n",
    "########################\n",
    "# write your code under each comment\n",
    "\n",
    "# input size as x\n",
    "# assign row=x\n",
    "\n",
    "#row loop\n",
    "    #assign col=x\n",
    "    #column loop\n",
    "\n",
    "# study question: why do we assign row outside row top loop but col inside the row loop\n",
    "\n",
    "\n",
    "\n",
    "x=int(input(\"please enter an integer \"))\n",
    "row=x\n",
    "\n",
    "# row loop \n",
    "while row >-1:\n",
    "    row=row-1\n",
    "    #column loop\n",
    "    col=x\n",
    "    while col >-1:\n",
    "        print (col, end=\"\")\n",
    "        col=col-1   \n",
    "    print (\"\")\n",
    "    print (\"\")"
   ]
  },
  {
   "cell_type": "code",
   "execution_count": null,
   "metadata": {
    "collapsed": true
   },
   "outputs": [],
   "source": [
    "## now combine the code to overlay $$ on even number locations and __ on odd number locations\n",
    "## you might think of this as a map of where a bot found some payoff on s square plot of land\n",
    "\n",
    "> $$ __ $$ __ $$ __\n",
    "\n",
    "> $$ __ $$ __ $$ __\n",
    "\n",
    "> $$ __ $$ __ $$ __\n",
    "\n",
    "> $$ __ $$ __ $$ __\n",
    "\n",
    "> $$ __ $$ __ $$ __"
   ]
  },
  {
   "cell_type": "code",
   "execution_count": 40,
   "metadata": {},
   "outputs": [
    {
     "name": "stdout",
     "output_type": "stream",
     "text": [
      "please enter an integer 5\n",
      "$$__$$__$$__\n",
      "\n",
      "$$__$$__$$__\n",
      "\n",
      "$$__$$__$$__\n",
      "\n",
      "$$__$$__$$__\n",
      "\n",
      "$$__$$__$$__\n",
      "\n",
      "$$__$$__$$__\n",
      "\n"
     ]
    }
   ],
   "source": [
    "x=int(input(\"please enter an integer \"))\n",
    "row=x\n",
    "\n",
    "# row loop \n",
    "while row >-1:\n",
    "    row=row-1\n",
    "    #column loop\n",
    "    col=x\n",
    "    while col >-1:\n",
    "        if col%2==0: \n",
    "            print ('__', end=\"\")\n",
    "        else:\n",
    "            print (\"$$\", end=\"\")\n",
    "        col=col-1   \n",
    "    print (\"\")\n",
    "    print (\"\")"
   ]
  }
 ],
 "metadata": {
  "kernelspec": {
   "display_name": "Python 3",
   "language": "python",
   "name": "python3"
  },
  "language_info": {
   "codemirror_mode": {
    "name": "ipython",
    "version": 3
   },
   "file_extension": ".py",
   "mimetype": "text/x-python",
   "name": "python",
   "nbconvert_exporter": "python",
   "pygments_lexer": "ipython3",
   "version": "3.6.1"
  }
 },
 "nbformat": 4,
 "nbformat_minor": 2
}
