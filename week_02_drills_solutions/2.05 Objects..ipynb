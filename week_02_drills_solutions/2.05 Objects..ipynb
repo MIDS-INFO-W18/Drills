{
 "cells": [
  {
   "cell_type": "markdown",
   "metadata": {
    "collapsed": true
   },
   "source": [
    "# 2.05 Starting python and objects"
   ]
  },
  {
   "cell_type": "markdown",
   "metadata": {
    "collapsed": true
   },
   "source": [
    "###  Make the Nikola Tesla quote below into a single string using a mathematical symbols as shown in the aysnc\n",
    "\n",
    "\n",
    "> \"The scientists of today\" \n",
    "\n",
    ">\"think deeply instead of clearly.\" \n",
    "\n",
    ">\"One must be sane to think clearly,\"\n",
    "\n",
    ">\"but one can think deeply and be\"\n",
    "\n",
    ">\"quite insane.\"\n",
    "\n",
    "\n",
    "Why does python let us do math on strings?\n",
    "\n",
    "Do all mathematical symbols operate on strings in python?\n",
    "\n",
    "Say something about that..."
   ]
  },
  {
   "cell_type": "code",
   "execution_count": null,
   "metadata": {
    "collapsed": true
   },
   "outputs": [],
   "source": [
    "a=\"The scientists of today\" \n",
    "s=\"think deeply instead of clearly.\" \n",
    "V=\"One must be sane to think clearly,\"\n",
    "w=\"but one can think deeply and be\"\n",
    "z=\"quite insane.\"\n",
    "\n",
    "######## your code here #######"
   ]
  },
  {
   "cell_type": "markdown",
   "metadata": {
    "collapsed": true
   },
   "source": [
    "### We will talk more about namespaces later but for now, just look at the \"local\" and \"global\" object space to see which objects are present\n",
    "\n",
    "do you see the variables that you just put into the object space?\n",
    "\n",
    "do you notice other objects ?"
   ]
  },
  {
   "cell_type": "code",
   "execution_count": null,
   "metadata": {
    "collapsed": true
   },
   "outputs": [],
   "source": [
    "locals()"
   ]
  },
  {
   "cell_type": "code",
   "execution_count": null,
   "metadata": {
    "collapsed": true
   },
   "outputs": [],
   "source": [
    "globals()"
   ]
  },
  {
   "cell_type": "markdown",
   "metadata": {},
   "source": [
    "There are some objects listed that you did not add. These are dunder (double underscore __) objects that come in when you load python\n",
    "\n",
    "Check the type of these"
   ]
  },
  {
   "cell_type": "code",
   "execution_count": null,
   "metadata": {
    "collapsed": true
   },
   "outputs": [],
   "source": [
    "type(__builtin__)"
   ]
  },
  {
   "cell_type": "markdown",
   "metadata": {},
   "source": [
    "Print is a built in function what do we see when we get its type?"
   ]
  },
  {
   "cell_type": "code",
   "execution_count": null,
   "metadata": {
    "collapsed": true
   },
   "outputs": [],
   "source": [
    "type(print)"
   ]
  }
 ],
 "metadata": {
  "kernelspec": {
   "display_name": "Python 3",
   "language": "python",
   "name": "python3"
  },
  "language_info": {
   "codemirror_mode": {
    "name": "ipython",
    "version": 3
   },
   "file_extension": ".py",
   "mimetype": "text/x-python",
   "name": "python",
   "nbconvert_exporter": "python",
   "pygments_lexer": "ipython3",
   "version": "3.6.1"
  }
 },
 "nbformat": 4,
 "nbformat_minor": 2
}
