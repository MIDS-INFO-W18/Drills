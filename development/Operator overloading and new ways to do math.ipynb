{
 "cells": [
  {
   "cell_type": "markdown",
   "metadata": {},
   "source": [
    "# coding languages have a very cool and potentially confusing feature called operator overloading\n",
    "\n",
    "* With operator overloading classes sometimes re-define basic functions like +, - and print \n",
    "\n",
    "* in the best case, these bestow intuitive but potentially unexpected behaviors on different objects\n",
    "\n",
    "* however this topic is worth careful study \n",
    "\n",
    "We will discuss this further when we build our own classes in the object oriented programming section (oop), This will involve hte use of built in \"dunder methods\" ((i.e.) __gt__() __lt__(), __eq__() for > < and ==)\n",
    "\n",
    "Before each series read the question and predict the output."
   ]
  },
  {
   "cell_type": "code",
   "execution_count": 1,
   "metadata": {},
   "outputs": [
    {
     "ename": "SyntaxError",
     "evalue": "invalid syntax (<ipython-input-1-74a693271c00>, line 4)",
     "output_type": "error",
     "traceback": [
      "\u001b[0;36m  File \u001b[0;32m\"<ipython-input-1-74a693271c00>\"\u001b[0;36m, line \u001b[0;32m4\u001b[0m\n\u001b[0;31m    >>> a>u\u001b[0m\n\u001b[0m     ^\u001b[0m\n\u001b[0;31mSyntaxError\u001b[0m\u001b[0;31m:\u001b[0m invalid syntax\n"
     ]
    }
   ],
   "source": [
    "\n",
    "# Letters have an order and can be compared using inequalituy\n",
    "\n",
    ">>> a>u\n",
    "Traceback (most recent call last):\n",
    "  File \"<stdin>\", line 1, in <module>\n",
    "NameError: name 'a' is not defined\n",
    ">>> 'a'>'u'\n",
    "False\n",
    "\n",
    "# you might expect that a letter could be re-cast as its underlying value but this fails \n",
    "# because the __int__() dunder method is not defined in the class defintion\n",
    ">>> int(a)\n",
    "Traceback (most recent call last):\n",
    "  File \"<stdin>\", line 1, in <module>\n",
    "NameError: name 'a' is not defined\n",
    ">>> 'u'>'a'\n",
    "True\n",
    "\n",
    "#we can even take the whole cumilative value of a string for the comparison\n",
    ">>> 'aa'>'uu'\n",
    "False\n",
    ">>> 'aa'>'a'\n",
    "True\n",
    "\n",
    "# to emphasize that somthing else is going on from simple addition \n",
    "\n",
    ">>> 'aa'=='a'\n",
    "False\n",
    ">>> 'aa'=='b'\n",
    "False\n",
    ">>> 'b'==\"aa\"\n",
    "False\n",
    ">>> 'b' >\"aa\"\n",
    "True\n",
    ">>> 'b' >\"aaa\"\n",
    "True\n",
    ">>> 'b' >\"aab\"\n",
    "True\n",
    ">>> 'b' >\"b\"\n",
    "False\n",
    ">>> 'b' >\"ba\"\n",
    "False\n",
    ">>> 'ba' >\"b\"\n",
    "True\n",
    ">>> 'ba' >\"bb\"\n",
    "False\n",
    ">>> 'ba' >\"bb\"\n",
    "\n",
    "\n",
    "\n",
    "#booleans behave more like what we expected for letters\n",
    ">>> int (TRUE)\n",
    "Traceback (most recent call last):\n",
    "  File \"<stdin>\", line 1, in <module>\n",
    "NameError: name 'TRUE' is not defined\n",
    ">>> int(True)\n",
    "1"
   ]
  },
  {
   "cell_type": "code",
   "execution_count": 2,
   "metadata": {},
   "outputs": [
    {
     "ename": "SyntaxError",
     "evalue": "invalid syntax (<ipython-input-2-3b201fc5b725>, line 4)",
     "output_type": "error",
     "traceback": [
      "\u001b[0;36m  File \u001b[0;32m\"<ipython-input-2-3b201fc5b725>\"\u001b[0;36m, line \u001b[0;32m4\u001b[0m\n\u001b[0;31m    >>> int (TRUE)\u001b[0m\n\u001b[0m     ^\u001b[0m\n\u001b[0;31mSyntaxError\u001b[0m\u001b[0;31m:\u001b[0m invalid syntax\n"
     ]
    }
   ],
   "source": [
    "#booleans behave more like what we expected for letters\n",
    "# we can even sum up booleans and the math works as expected\n",
    "\n",
    ">>> int (TRUE)\n",
    "Traceback (most recent call last):\n",
    "  File \"<stdin>\", line 1, in <module>\n",
    "NameError: name 'TRUE' is not defined\n",
    ">>> int(True)\n",
    "1"
   ]
  },
  {
   "cell_type": "code",
   "execution_count": 3,
   "metadata": {},
   "outputs": [
    {
     "ename": "SyntaxError",
     "evalue": "invalid syntax (<ipython-input-3-de3cd24d4f91>, line 4)",
     "output_type": "error",
     "traceback": [
      "\u001b[0;36m  File \u001b[0;32m\"<ipython-input-3-de3cd24d4f91>\"\u001b[0;36m, line \u001b[0;32m4\u001b[0m\n\u001b[0;31m    >>> True\u001b[0m\n\u001b[0m     ^\u001b[0m\n\u001b[0;31mSyntaxError\u001b[0m\u001b[0;31m:\u001b[0m invalid syntax\n"
     ]
    }
   ],
   "source": [
    "# we can see from this series of operations that Booleans \n",
    "# can be understoood as numbers but strings exist in thier world with unfamilar rules\n",
    "\n",
    ">>> True\n",
    "True\n",
    ">>> True=1\n",
    "  File \"<stdin>\", line 1\n",
    "SyntaxError: can't assign to keyword\n",
    ">>> True==1\n",
    "True\n",
    ">>> True+ True==1\n",
    "False\n",
    ">>> True+ True==2\n",
    "True\n",
    ">>> a==1\n",
    "Traceback (most recent call last):\n",
    "  File \"<stdin>\", line 1, in <module>\n",
    "NameError: name 'a' is not defined\n",
    ">>> 'a'==1\n",
    "False\n",
    ">>> 'a'+'a'==1\n",
    "False\n",
    ">>> 'a'+'a'==2\n",
    "False\n",
    ">>> 'a'+'a'>1\n",
    "Traceback (most recent call last):\n",
    "  File \"<stdin>\", line 1, in <module>\n",
    "TypeError: '>' not supported between instances of 'str' and 'int'\n",
    ">>> 'a'+'a' == 'aa'\n",
    "True"
   ]
  },
  {
   "cell_type": "code",
   "execution_count": null,
   "metadata": {
    "collapsed": true
   },
   "outputs": [],
   "source": []
  }
 ],
 "metadata": {
  "kernelspec": {
   "display_name": "Python 3",
   "language": "python",
   "name": "python3"
  },
  "language_info": {
   "codemirror_mode": {
    "name": "ipython",
    "version": 3
   },
   "file_extension": ".py",
   "mimetype": "text/x-python",
   "name": "python",
   "nbconvert_exporter": "python",
   "pygments_lexer": "ipython3",
   "version": "3.6.1"
  }
 },
 "nbformat": 4,
 "nbformat_minor": 2
}
