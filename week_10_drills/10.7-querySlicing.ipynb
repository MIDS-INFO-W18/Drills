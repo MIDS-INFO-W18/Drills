{
 "cells": [
  {
   "cell_type": "markdown",
   "metadata": {},
   "source": [
    "### Drill 10.7.1 - Query, slicing, combining arrays"
   ]
  },
  {
   "cell_type": "markdown",
   "metadata": {},
   "source": [
    "<h4>Let&rsquo;s create a 5 x 3 array using NumPy.</h4>  We want to shape it with five rows and three columns in each row.  Use NumPy&rsquo;s <code>random.seed(15)</code> to start ...  But note there are differences in version.  Check out the depreciated statements below.\n"
   ]
  },
  {
   "cell_type": "code",
   "execution_count": 51,
   "metadata": {},
   "outputs": [
    {
     "name": "stderr",
     "output_type": "stream",
     "text": [
      "/anaconda3/lib/python3.6/site-packages/ipykernel_launcher.py:4: DeprecationWarning: This function is deprecated. Please call randint(1, 15 + 1) instead\n",
      "  after removing the cwd from sys.path.\n"
     ]
    }
   ],
   "source": [
    "#[answer] - be sure to import numpy\n",
    "\n",
    "# create a randomized np array of 15 (5 x 3)\n",
    "\n",
    "# note that the above syntax is depreciated.\n",
    "# instead use np.random.randint(7, size=(5,3))\n"
   ]
  },
  {
   "cell_type": "code",
   "execution_count": 11,
   "metadata": {},
   "outputs": [
    {
     "name": "stdout",
     "output_type": "stream",
     "text": [
      "[[14 15  3]\n",
      " [ 4  3  8]\n",
      " [11  4  1]\n",
      " [11 12  1]\n",
      " [ 7 14  4]]\n",
      "------------------------------------------------------------\n",
      "[[2 1 6]\n",
      " [2 3 6]\n",
      " [2 3 0]\n",
      " [0 0 2]\n",
      " [6 4 1]]\n"
     ]
    }
   ],
   "source": [
    "# printout the two arrays from above\n",
    "\n"
   ]
  },
  {
   "cell_type": "markdown",
   "metadata": {},
   "source": [
    "<h3>Manipulating NumPy arrays</h3>"
   ]
  },
  {
   "cell_type": "markdown",
   "metadata": {},
   "source": [
    "Create a random arrays of integers.  Next we&rsquo;ll try to pull out data from this multidimensional array.  First, let&rsquo;s try to grab all the data using the colon operator for the first 5 items.  What appears?  We're going to explore multidimensional arrays."
   ]
  },
  {
   "cell_type": "code",
   "execution_count": 33,
   "metadata": {},
   "outputs": [
    {
     "name": "stdout",
     "output_type": "stream",
     "text": [
      "------------------------------------------------------------\n",
      "[[0 3 0]\n",
      " [3 1 5]\n",
      " [6 4 1]\n",
      " [5 6 0]\n",
      " [6 4 5]]\n",
      "------------------------------------------------------------ \n",
      "ar1[0]\n",
      "[0 3 0]\n",
      "------------------------------------------------------------ \n",
      "ar1[:5]\n",
      "[[0 3 0]\n",
      " [3 1 5]\n",
      " [6 4 1]\n",
      " [5 6 0]\n",
      " [6 4 5]]\n"
     ]
    }
   ],
   "source": [
    "#  create a randomized set of values (perhaps using the randint command, 5 x 3)\n",
    "\n",
    "# let's view the entire array\n",
    "\n",
    "# what happens when we call only \"0\"?\n",
    "\n",
    "# what if we try the range :5?\n",
    "\n"
   ]
  },
  {
   "cell_type": "markdown",
   "metadata": {},
   "source": [
    "#### More experiments with slicing a 2D arrays."
   ]
  },
  {
   "cell_type": "code",
   "execution_count": 34,
   "metadata": {},
   "outputs": [
    {
     "name": "stdout",
     "output_type": "stream",
     "text": [
      "[[0 3 0]\n",
      " [3 1 5]\n",
      " [6 4 1]\n",
      " [5 6 0]\n",
      " [6 4 5]]\n",
      "------------------------------------------------------------\n",
      "[[3 0]\n",
      " [1 5]\n",
      " [4 1]\n",
      " [6 0]\n",
      " [4 5]]\n"
     ]
    }
   ],
   "source": [
    "### \n",
    "# using ar1, how to retrieve all the values?\n",
    "print(ar1[:])\n",
    "print(\"-\"*60)\n",
    "# how about a range of values?  \n",
    "# must identify the x, y  (Example: all the rows, except col 1 and 2)\n",
    "print(ar1[:,1:3])  "
   ]
  },
  {
   "cell_type": "markdown",
   "metadata": {},
   "source": [
    "We can select a <font color='red'>subset</font> of rows and columns in the [ ].  The left-most operator we&rsquo;re using <font color='red'>:</font> for &ldquo;all&rdquo; and operates on the rows. The range after the comma, e.g., 1:3] operaters on the columns. \n",
    "Using the <code>ar1</code> created above, let&rsquo;s swap the row/column operators.  Try it."
   ]
  },
  {
   "cell_type": "code",
   "execution_count": 35,
   "metadata": {},
   "outputs": [
    {
     "name": "stdout",
     "output_type": "stream",
     "text": [
      "[[3 1 5]\n",
      " [6 4 1]]\n"
     ]
    }
   ],
   "source": []
  },
  {
   "cell_type": "markdown",
   "metadata": {},
   "source": [
    "What if we want to grab the rows in steps of 2 and the columns in steps of 2?\n",
    "What might it show us?  (e.g., ar1[::2, ::2]).  Replace the 2 with different values to see what you get as output.\n"
   ]
  },
  {
   "cell_type": "code",
   "execution_count": 36,
   "metadata": {},
   "outputs": [
    {
     "name": "stdout",
     "output_type": "stream",
     "text": [
      "[[0 0]\n",
      " [6 1]\n",
      " [6 5]]\n"
     ]
    }
   ],
   "source": []
  },
  {
   "cell_type": "markdown",
   "metadata": {},
   "source": [
    "#### Experiment with vstack (any iterable - stacking the data vertically)."
   ]
  },
  {
   "cell_type": "code",
   "execution_count": 43,
   "metadata": {},
   "outputs": [
    {
     "name": "stdout",
     "output_type": "stream",
     "text": [
      "------------------------------------------------------------ \n",
      " [[6 5 0]\n",
      " [6 0 3]\n",
      " [5 4 3]\n",
      " [6 1 3]\n",
      " [0 5 1]]\n",
      "------------------------------------------------------------ \n",
      " [[2 0 3]\n",
      " [6 1 4]\n",
      " [1 0 1]\n",
      " [1 3 1]\n",
      " [4 2 2]]\n",
      "------------------------------------------------------------ \n",
      "Vertical Stack\n",
      " [[6 5 0]\n",
      " [6 0 3]\n",
      " [5 4 3]\n",
      " [6 1 3]\n",
      " [0 5 1]\n",
      " [2 0 3]\n",
      " [6 1 4]\n",
      " [1 0 1]\n",
      " [1 3 1]\n",
      " [4 2 2]]\n"
     ]
    }
   ],
   "source": [
    "#Create 2 randomized arrays of (5 x 3) and then practice vstack.\n",
    "\n",
    "# print them out ... \n",
    "\n"
   ]
  },
  {
   "cell_type": "markdown",
   "metadata": {},
   "source": [
    "Sometimes we need to <font color='red'>reshape</font> the array ... let&rsquo;s reshape <code>ar1</code> from 5 rows and three columns to three rows and five columns."
   ]
  },
  {
   "cell_type": "code",
   "execution_count": 44,
   "metadata": {},
   "outputs": [
    {
     "name": "stdout",
     "output_type": "stream",
     "text": [
      "[[6 5 0 6 0]\n",
      " [3 5 4 3 6]\n",
      " [1 3 0 5 1]]\n"
     ]
    }
   ],
   "source": [
    "# how might you reshape your array from 5 x 3 to 3 x 5?\n"
   ]
  },
  {
   "cell_type": "markdown",
   "metadata": {},
   "source": [
    "If we can stack <i>vertically</i> perhaps horizontally, too?  Follow the example you used for vstack.  Print 'em out."
   ]
  },
  {
   "cell_type": "code",
   "execution_count": 50,
   "metadata": {},
   "outputs": [
    {
     "name": "stdout",
     "output_type": "stream",
     "text": [
      "------------------------------------------------------------ \n",
      " [[1 1 6]\n",
      " [0 5 5]\n",
      " [6 3 6]\n",
      " [3 4 3]\n",
      " [4 4 0]]\n",
      "------------------------------------------------------------ \n",
      " [[5 0 5]\n",
      " [2 5 5]\n",
      " [4 5 3]\n",
      " [5 2 4]\n",
      " [2 6 0]]\n",
      "------------------------------------------------------------ \n",
      "Horizontal Stack:\n",
      " [[1 1 6 5 0 5]\n",
      " [0 5 5 2 5 5]\n",
      " [6 3 6 4 5 3]\n",
      " [3 4 3 5 2 4]\n",
      " [4 4 0 2 6 0]]\n"
     ]
    }
   ],
   "source": []
  },
  {
   "cell_type": "code",
   "execution_count": 49,
   "metadata": {},
   "outputs": [
    {
     "data": {
      "text/plain": [
       "array([[6, 4, 0],\n",
       "       [4, 6, 1],\n",
       "       [1, 1, 0],\n",
       "       [6, 4, 0],\n",
       "       [3, 5, 5],\n",
       "       [6, 4, 0],\n",
       "       [4, 6, 1],\n",
       "       [1, 1, 0],\n",
       "       [6, 4, 0],\n",
       "       [3, 5, 5],\n",
       "       [6, 4, 0],\n",
       "       [4, 6, 1],\n",
       "       [1, 1, 0],\n",
       "       [6, 4, 0],\n",
       "       [3, 5, 5],\n",
       "       [6, 4, 0],\n",
       "       [4, 6, 1],\n",
       "       [1, 1, 0],\n",
       "       [6, 4, 0],\n",
       "       [3, 5, 5],\n",
       "       [6, 4, 0],\n",
       "       [4, 6, 1],\n",
       "       [1, 1, 0],\n",
       "       [6, 4, 0],\n",
       "       [3, 5, 5]])"
      ]
     },
     "execution_count": 49,
     "metadata": {},
     "output_type": "execute_result"
    }
   ],
   "source": [
    "#### Concatenation of lots of arrays? (Using vstack)\n"
   ]
  },
  {
   "cell_type": "markdown",
   "metadata": {},
   "source": [
    "#### Concatenation... \n",
    "Using our <code>ar1</code> and <code>ar2</code>, let&rsquo;s concatenate them, experimenting on the axis (1 or 0).   First, let's try on axis = 1.  What do you see?  Next try axis = 0 and compare."
   ]
  },
  {
   "cell_type": "markdown",
   "metadata": {},
   "source": [
    "&#x1f601; Pretty cool, no? &#x1f638;"
   ]
  },
  {
   "cell_type": "code",
   "execution_count": 61,
   "metadata": {},
   "outputs": [
    {
     "data": {
      "text/plain": [
       "array([[1, 1, 6],\n",
       "       [0, 5, 5],\n",
       "       [6, 3, 6],\n",
       "       [3, 4, 3],\n",
       "       [4, 4, 0],\n",
       "       [5, 0, 5],\n",
       "       [2, 5, 5],\n",
       "       [4, 5, 3],\n",
       "       [5, 2, 4],\n",
       "       [2, 6, 0]])"
      ]
     },
     "execution_count": 61,
     "metadata": {},
     "output_type": "execute_result"
    }
   ],
   "source": []
  },
  {
   "cell_type": "code",
   "execution_count": 63,
   "metadata": {},
   "outputs": [
    {
     "data": {
      "text/plain": [
       "array([[5, 0, 5],\n",
       "       [2, 5, 5],\n",
       "       [4, 5, 3],\n",
       "       [5, 2, 4],\n",
       "       [2, 6, 0],\n",
       "       [1, 1, 6],\n",
       "       [0, 5, 5],\n",
       "       [6, 3, 6],\n",
       "       [3, 4, 3],\n",
       "       [4, 4, 0]])"
      ]
     },
     "execution_count": 63,
     "metadata": {},
     "output_type": "execute_result"
    }
   ],
   "source": [
    "#And on axis = 0:\n"
   ]
  },
  {
   "cell_type": "markdown",
   "metadata": {},
   "source": [
    "### Splitting Arrays\n",
    "This practice splits arrays.  Using <code>a1</code> let&rsquo;s dstack and split ... "
   ]
  },
  {
   "cell_type": "code",
   "execution_count": 66,
   "metadata": {},
   "outputs": [
    {
     "data": {
      "text/plain": [
       "array([[[1, 1],\n",
       "        [1, 1],\n",
       "        [6, 6]],\n",
       "\n",
       "       [[0, 0],\n",
       "        [5, 5],\n",
       "        [5, 5]],\n",
       "\n",
       "       [[6, 6],\n",
       "        [3, 3],\n",
       "        [6, 6]],\n",
       "\n",
       "       [[3, 3],\n",
       "        [4, 4],\n",
       "        [3, 3]],\n",
       "\n",
       "       [[4, 4],\n",
       "        [4, 4],\n",
       "        [0, 0]]])"
      ]
     },
     "execution_count": 66,
     "metadata": {},
     "output_type": "execute_result"
    }
   ],
   "source": []
  },
  {
   "cell_type": "markdown",
   "metadata": {},
   "source": [
    "Let&rsquo;s <font color='red'>split</font>!  It undoes what we do with the dstack (or reduce the dimension)... for example by 1.\n"
   ]
  },
  {
   "cell_type": "code",
   "execution_count": 69,
   "metadata": {},
   "outputs": [
    {
     "data": {
      "text/plain": [
       "array([[[1, 1],\n",
       "        [1, 1],\n",
       "        [6, 6]],\n",
       "\n",
       "       [[0, 0],\n",
       "        [5, 5],\n",
       "        [5, 5]],\n",
       "\n",
       "       [[6, 6],\n",
       "        [3, 3],\n",
       "        [6, 6]],\n",
       "\n",
       "       [[3, 3],\n",
       "        [4, 4],\n",
       "        [3, 3]],\n",
       "\n",
       "       [[4, 4],\n",
       "        [4, 4],\n",
       "        [0, 0]]])"
      ]
     },
     "execution_count": 69,
     "metadata": {},
     "output_type": "execute_result"
    }
   ],
   "source": []
  },
  {
   "cell_type": "markdown",
   "metadata": {},
   "source": [
    "<h5>hsplit and vsplit</h5>\n"
   ]
  },
  {
   "cell_type": "code",
   "execution_count": 76,
   "metadata": {},
   "outputs": [
    {
     "data": {
      "text/plain": [
       "[array([[[1]],\n",
       " \n",
       "        [[0]],\n",
       " \n",
       "        [[6]],\n",
       " \n",
       "        [[3]],\n",
       " \n",
       "        [[4]]]), array([[[1]],\n",
       " \n",
       "        [[5]],\n",
       " \n",
       "        [[3]],\n",
       " \n",
       "        [[4]],\n",
       " \n",
       "        [[4]]]), array([[[6]],\n",
       " \n",
       "        [[5]],\n",
       " \n",
       "        [[6]],\n",
       " \n",
       "        [[3]],\n",
       " \n",
       "        [[0]]])]"
      ]
     },
     "execution_count": 76,
     "metadata": {},
     "output_type": "execute_result"
    }
   ],
   "source": [
    "# take a look at ar2 and let's split and see the results.\n",
    "# using hsplit first, what do you see?\n",
    "\n",
    "# replace the ,3 above with ,2 and see... \n",
    "# there will be an error when the array cannot be divided evenly.\n",
    "# using vsplit here will result in an error.  Good luck!"
   ]
  },
  {
   "cell_type": "code",
   "execution_count": null,
   "metadata": {},
   "outputs": [],
   "source": []
  }
 ],
 "metadata": {
  "kernelspec": {
   "display_name": "Python 3",
   "language": "python",
   "name": "python3"
  },
  "language_info": {
   "codemirror_mode": {
    "name": "ipython",
    "version": 3
   },
   "file_extension": ".py",
   "mimetype": "text/x-python",
   "name": "python",
   "nbconvert_exporter": "python",
   "pygments_lexer": "ipython3",
   "version": "3.6.4"
  }
 },
 "nbformat": 4,
 "nbformat_minor": 2
}
