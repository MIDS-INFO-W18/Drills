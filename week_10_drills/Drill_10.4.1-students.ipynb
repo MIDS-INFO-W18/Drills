{
 "cells": [
  {
   "cell_type": "markdown",
   "metadata": {},
   "source": [
    "<h2>Drills 10.4 <font color='red'>Functional</font> Programming</h2>"
   ]
  },
  {
   "cell_type": "markdown",
   "metadata": {},
   "source": [
    "Short question:  what&rsquo;s a benefit of functional programming?"
   ]
  },
  {
   "cell_type": "markdown",
   "metadata": {},
   "source": [
    "Answer:  the output of a function will always be the same.  Unlike OOP, where we might overwrite a mutable object with the functional approach, we should not be able to alter the behavior."
   ]
  },
  {
   "cell_type": "markdown",
   "metadata": {},
   "source": [
    "Given this snippet, why be concerned about OOP versus functional programming?\n",
    "\n",
    "<code>class Cat:\n",
    "    sound = \"meow\"\n",
    "    def soundOff(self):\n",
    "        return \"The cat says %s \" % (self.sound)\n",
    "c = Cat()\n",
    "\n",
    "def petTheKitty(c):\n",
    "    print(c.soundOff())\n",
    "petTheKitty(c)\n",
    "c.sound = \"Woof\"\n",
    "petTheKitty(c)\n",
    "</code>"
   ]
  },
  {
   "cell_type": "markdown",
   "metadata": {},
   "source": [
    "### Functions return the same result...  write a quick little function to accept two values and return the cube of their sum."
   ]
  },
  {
   "cell_type": "code",
   "execution_count": 3,
   "metadata": {},
   "outputs": [
    {
     "name": "stdout",
     "output_type": "stream",
     "text": [
      "216\n"
     ]
    }
   ],
   "source": []
  },
  {
   "cell_type": "markdown",
   "metadata": {},
   "source": [
    "<h4>Similarly, write a function that accepts 2 inputs: first the value to be cubed and the second is the number of times to run.  Save the result in a new_list and print.</h4>"
   ]
  },
  {
   "cell_type": "code",
   "execution_count": 11,
   "metadata": {},
   "outputs": [
    {
     "name": "stdout",
     "output_type": "stream",
     "text": [
      "[0, 1, 8, 27, 64, 125, 216, 343, 512, 729]\n"
     ]
    }
   ],
   "source": [
    "# to start, define a range of 10, store in x\n"
   ]
  },
  {
   "cell_type": "markdown",
   "metadata": {},
   "source": [
    "<h4>Python&rsquo;s <font color='red'>map()</font> function</h4> returns boolean values (t/f) depending on whether the data passed to it fulfills some criterion.  \n"
   ]
  },
  {
   "cell_type": "code",
   "execution_count": 13,
   "metadata": {},
   "outputs": [
    {
     "name": "stdout",
     "output_type": "stream",
     "text": [
      "False\n"
     ]
    }
   ],
   "source": [
    "# what is the output of a function that accepts a value and returns whether it is true or false... \n",
    "# e.g., name your function \"is_even()\"\n"
   ]
  },
  {
   "cell_type": "code",
   "execution_count": 16,
   "metadata": {},
   "outputs": [
    {
     "name": "stdout",
     "output_type": "stream",
     "text": [
      "[0, 8, 64, 216, 512]\n"
     ]
    }
   ],
   "source": [
    "# using this function is_even(i), pass a list (e.g., new_list()) to it and display \n",
    "# only the even numbers, by using the filter() function.\n",
    "# answer\n"
   ]
  },
  {
   "cell_type": "code",
   "execution_count": null,
   "metadata": {},
   "outputs": [],
   "source": [
    "# for strings we might to convert everything to lower case to facilitate comparison.  \n",
    "# first write a function to accept a string and return a string entirely in lower_case.\n",
    "\n",
    "# if the string is upper case, return the string as lower case.\n",
    "\n",
    "# if the string is already lower case, just return the string.\n",
    "# [Answer:]\n"
   ]
  },
  {
   "cell_type": "code",
   "execution_count": 18,
   "metadata": {},
   "outputs": [
    {
     "data": {
      "text/plain": [
       "[0, 1, 64, 729, 4096, 15625, 46656, 117649, 262144, 531441]"
      ]
     },
     "execution_count": 18,
     "metadata": {},
     "output_type": "execute_result"
    }
   ],
   "source": [
    "# using only a list, square the data in new_list\n",
    "# answer: [item ** 2 for item in new_list]"
   ]
  },
  {
   "cell_type": "markdown",
   "metadata": {},
   "source": [
    "<h4>anonymous or <font color='red'>lambda</font> functions ...</h4>\n",
    "are useful for getting quick results:\n",
    "write a lambda function mapping to a list (use new_list)\n"
   ]
  },
  {
   "cell_type": "code",
   "execution_count": null,
   "metadata": {},
   "outputs": [],
   "source": [
    "#[answer]  "
   ]
  },
  {
   "cell_type": "markdown",
   "metadata": {},
   "source": [
    "<h4>the last drill integrates map, filters and two lambda function.</h4>\n",
    "We want to create a range (e.g., <code>range(1,20)</code> and then map and filter two variables i and j.  For each i, map and square it; for each j, filter by modulus 2."
   ]
  },
  {
   "cell_type": "code",
   "execution_count": 20,
   "metadata": {},
   "outputs": [
    {
     "data": {
      "text/plain": [
       "[4, 16, 36, 64, 100, 144, 196, 256, 324]"
      ]
     },
     "execution_count": 20,
     "metadata": {},
     "output_type": "execute_result"
    }
   ],
   "source": [
    "# answer\n",
    "\n"
   ]
  }
 ],
 "metadata": {
  "kernelspec": {
   "display_name": "Python 3",
   "language": "python",
   "name": "python3"
  },
  "language_info": {
   "codemirror_mode": {
    "name": "ipython",
    "version": 3
   },
   "file_extension": ".py",
   "mimetype": "text/x-python",
   "name": "python",
   "nbconvert_exporter": "python",
   "pygments_lexer": "ipython3",
   "version": "3.6.4"
  }
 },
 "nbformat": 4,
 "nbformat_minor": 2
}
