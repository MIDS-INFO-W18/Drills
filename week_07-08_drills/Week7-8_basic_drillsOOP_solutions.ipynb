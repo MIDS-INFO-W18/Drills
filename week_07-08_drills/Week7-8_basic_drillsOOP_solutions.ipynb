{
 "cells": [
  {
   "cell_type": "markdown",
   "metadata": {},
   "source": [
    "## Basic OOP  (Week 7)  \n",
    "\n",
    "In this book we will build up a vitual startup company to practice the basic concepts in Object oriented programming (OOP). The drills will be progressive and follow the lecture material closely\n"
   ]
  },
  {
   "cell_type": "markdown",
   "metadata": {
    "collapsed": true
   },
   "source": [
    "# basic class structure 7.04 - 7.06\n",
    "\n",
    "- Make a class \"company\"\n",
    "\n",
    "1- give it a docstring that describes the intent and fuction of the class\n",
    "\n",
    "\n",
    "    \n",
    "Start this out as an base class with the attributes either specifying empty lists, 0 or \"None\" where each makes sense\n",
    "\n",
    "\n",
    "3- make the methods to add some attributes on demand\n",
    "    \n",
    "    add_employee_name \n",
    "    \n",
    "    add_funding\n",
    "\n",
    "\n",
    "The methods should intake self and a default value (i.e. employee_name=\"unnammed\" or amount=0)\n",
    "\n",
    "- For the add emploee method; append the new name to the list and add one to the employee count\n",
    "\n",
    "- For the funding amout append it to the list and increment the amount to the funding total"
   ]
  },
  {
   "cell_type": "code",
   "execution_count": 16,
   "metadata": {},
   "outputs": [],
   "source": [
    "class Company():\n",
    "    '''An entity that represents a startup company\n",
    "    it is empty when you make it'''\n",
    "    employee_list=[]\n",
    "    employee_count=1\n",
    "    funding_list=[]\n",
    "    \n",
    "    def add_employee_name(self, employee_name=\"unnammed\"): \n",
    "        if employee_name != \"unnammed\":\n",
    "            self.employee_list.append(employee_name)  \n",
    "            self.employee_count+=1\n",
    "            \n",
    "    def add_funding(self, amount=0):\n",
    "        self.funding_list.append(amount)\n",
    "        print('your funding addition was {}'.format(amount))\n",
    "        print('Total funding is {}'.format(sum(self.funding_list)))        "
   ]
  },
  {
   "cell_type": "code",
   "execution_count": 19,
   "metadata": {},
   "outputs": [
    {
     "name": "stdout",
     "output_type": "stream",
     "text": [
      "your funding addition was 10000000\n",
      "Total funding is 10000000\n",
      "your funding addition was 50000\n",
      "Total funding is 10050000\n"
     ]
    }
   ],
   "source": [
    "# try out your class with this code\n",
    "\n",
    "c1=Company()\n",
    "c1.add_employee_name(\"Gunnar\")\n",
    "\n",
    "c2=Company()\n",
    "c2.add_funding(10000000)\n",
    "c2.add_funding(50000)"
   ]
  },
  {
   "cell_type": "markdown",
   "metadata": {},
   "source": [
    "# Note that only company 2 got funding but company 1 also shows the same funding amount. Why is this?"
   ]
  },
  {
   "cell_type": "code",
   "execution_count": 31,
   "metadata": {},
   "outputs": [
    {
     "name": "stdout",
     "output_type": "stream",
     "text": [
      "True\n"
     ]
    },
    {
     "data": {
      "text/plain": [
       "[10000000, 50000]"
      ]
     },
     "execution_count": 31,
     "metadata": {},
     "output_type": "execute_result"
    }
   ],
   "source": [
    "print (sum(c2.funding_list) == sum(c1.funding_list))\n",
    "c1.funding_list"
   ]
  },
  {
   "cell_type": "code",
   "execution_count": null,
   "metadata": {
    "collapsed": true
   },
   "outputs": [],
   "source": []
  },
  {
   "cell_type": "markdown",
   "metadata": {
    "collapsed": true
   },
   "source": [
    "# Add an __init__ magic method to initlaize funding and employee data as instance (rather than class) attributes. \n",
    "\n",
    "- Require that one employee name is added at the opening of a company \n",
    "- Make the intital funding amount default to 0. \n",
    "- don't forget your self arguments; instance attributes need self arguments!\n",
    "\n",
    "\n",
    "- Enhance your add employee method; if the method is called without an argument and the default value (employee_name == \"unnammed\") is used then do not add unnamed to the list and print a message to instruct the user to add a name. \n"
   ]
  },
  {
   "cell_type": "code",
   "execution_count": 42,
   "metadata": {},
   "outputs": [],
   "source": [
    "class Company():\n",
    "    '''An entity that represents a startup company\n",
    "    it is empty when you make it'''\n",
    "    \n",
    "    def __init__(self, employee_name, amount=0):\n",
    "        self.employee_list=[]\n",
    "        self.employee_count=0\n",
    "        self.funding_list=[]\n",
    "        #add_employee_name(employee_name) # this has not been loaded yet so it will not work!\n",
    "        self.employee_list.append(employee_name)  \n",
    "        self.employee_count+=1\n",
    "    \n",
    "    def add_employee_name(self, employee_name=\"unnammed\"): \n",
    "        if employee_name != \"unnammed\":\n",
    "            self.employee_list.append(employee_name)  \n",
    "            self.employee_count+=1\n",
    "        else:\n",
    "            print (\"don't forget to add an employee name!\")\n",
    "            \n",
    "    def add_funding(self, amount=0):\n",
    "        self.funding_list.append(amount)\n",
    "        print('your funding addition was {}'.format(amount))\n",
    "        print('Total funding is {}'.format(sum(self.funding_list)))        \n"
   ]
  },
  {
   "cell_type": "markdown",
   "metadata": {},
   "source": []
  },
  {
   "cell_type": "code",
   "execution_count": 46,
   "metadata": {},
   "outputs": [
    {
     "name": "stdout",
     "output_type": "stream",
     "text": [
      "don't forget to add an employee name!\n",
      "your funding addition was 10000000\n",
      "Total funding is 10000000\n",
      "your funding addition was 50000\n",
      "Total funding is 10050000\n"
     ]
    }
   ],
   "source": [
    "# try out your class with this code\n",
    "c1=Company(\"Gunnar\")\n",
    "c1.add_employee_name() # this should \n",
    "\n",
    "c2=Company(\"Chris\")\n",
    "c2.add_funding(10000000)\n",
    "c2.add_funding(50000)"
   ]
  },
  {
   "cell_type": "code",
   "execution_count": 47,
   "metadata": {},
   "outputs": [
    {
     "name": "stdout",
     "output_type": "stream",
     "text": [
      "False\n",
      "[]\n",
      "[10000000, 50000]\n"
     ]
    }
   ],
   "source": [
    "# Now the funding stays with the company that you put it in\n",
    "print (sum(c2.funding_list) == sum(c1.funding_list))\n",
    "print(c1.funding_list)\n",
    "print(c2.funding_list)"
   ]
  },
  {
   "cell_type": "markdown",
   "metadata": {},
   "source": [
    "# OK now that your company objects are working, lets add some more secret company data!\n",
    "\n",
    "add a hidden attribute \"client_list\"\n",
    "\n",
    "- since the attribute is hidden add special getter and setter methods for the client list. \n",
    "\n",
    "- in the future we can add an authentication layer to control access to these methods."
   ]
  },
  {
   "cell_type": "code",
   "execution_count": 48,
   "metadata": {
    "collapsed": true
   },
   "outputs": [],
   "source": [
    "class Company():\n",
    "    '''An entity that represents a startup company\n",
    "    it is empty when you make it'''\n",
    "    \n",
    "    def __init__(self, employee_name, amount=0):\n",
    "        self.employee_list=[]\n",
    "        self.employee_count=0\n",
    "        self.funding_list=[]\n",
    "        self.employee_list.append(employee_name)  \n",
    "        self.employee_count+=1\n",
    "        self.__client_list=[]\n",
    "    \n",
    "    def add_employee_name(self, employee_name=\"unnammed\"): \n",
    "        if employee_name != \"unnammed\":\n",
    "            self.employee_list.append(employee_name)  \n",
    "            self.employee_count+=1\n",
    "        else:\n",
    "            print (\"don't forget to add an employee name!\")\n",
    "    def add_funding(self, amount=0):\n",
    "        self.funding_list.append(amount)\n",
    "        print('your funding addition was {}'.format(amount))\n",
    "        print('Total funding is {}'.format(sum(self.funding_list)))        \n"
   ]
  },
  {
   "cell_type": "code",
   "execution_count": 51,
   "metadata": {},
   "outputs": [
    {
     "ename": "AttributeError",
     "evalue": "'Company' object has no attribute '__client_list'",
     "output_type": "error",
     "traceback": [
      "\u001b[0;31m---------------------------------------------------------------------------\u001b[0m",
      "\u001b[0;31mAttributeError\u001b[0m                            Traceback (most recent call last)",
      "\u001b[0;32m<ipython-input-51-e93aa49e8a06>\u001b[0m in \u001b[0;36m<module>\u001b[0;34m()\u001b[0m\n\u001b[1;32m      1\u001b[0m \u001b[0;31m# we can't acess this\u001b[0m\u001b[0;34m\u001b[0m\u001b[0;34m\u001b[0m\u001b[0m\n\u001b[1;32m      2\u001b[0m \u001b[0mc3\u001b[0m\u001b[0;34m=\u001b[0m\u001b[0mCompany\u001b[0m\u001b[0;34m(\u001b[0m\u001b[0;34m\"Paul\"\u001b[0m\u001b[0;34m)\u001b[0m\u001b[0;34m\u001b[0m\u001b[0m\n\u001b[0;32m----> 3\u001b[0;31m \u001b[0mprint\u001b[0m\u001b[0;34m(\u001b[0m\u001b[0mc3\u001b[0m\u001b[0;34m.\u001b[0m\u001b[0m__client_list\u001b[0m\u001b[0;34m)\u001b[0m\u001b[0;34m\u001b[0m\u001b[0m\n\u001b[0m",
      "\u001b[0;31mAttributeError\u001b[0m: 'Company' object has no attribute '__client_list'"
     ]
    }
   ],
   "source": [
    "# we can't acess this attribute directly\n",
    "c3=Company(\"Paul\")\n",
    "print(c3.__client_list)"
   ]
  },
  {
   "cell_type": "code",
   "execution_count": 62,
   "metadata": {
    "collapsed": true
   },
   "outputs": [],
   "source": [
    "class Company():\n",
    "    '''An entity that represents a startup company\n",
    "    it is empty when you make it'''\n",
    "    \n",
    "    def __init__(self, employee_name, amount=0):\n",
    "        self.employee_list=[]\n",
    "        self.employee_count=0\n",
    "        self.funding_list=[]\n",
    "        self.employee_list.append(employee_name)  \n",
    "        self.employee_count+=1\n",
    "        self.__client_list=[]\n",
    "    \n",
    "    def add_employee_name(self, employee_name=\"unnammed\"): \n",
    "        if employee_name != \"unnammed\":\n",
    "            self.employee_list.append(employee_name)  \n",
    "            self.employee_count+=1\n",
    "        else:\n",
    "            print (\"don't forget to add an employee name!\")\n",
    "    def add_funding(self, amount=0):\n",
    "        self.funding_list.append(amount)\n",
    "        print('your funding addition was {}'.format(amount))\n",
    "        print('Total funding is {}'.format(sum(self.funding_list)))        \n",
    "\n",
    "    def get_client_list(self):\n",
    "        return self.__client_list\n",
    "    \n",
    "    def set_client_list(self, new_client=\"None\"):\n",
    "        if new_client == \"None\":\n",
    "            #raise Exception(\"please add a client when setting a client\") # if we do this it will stop execution of the program\n",
    "            return print(\"please add a client when setting a client\") # this is more gentle\n",
    "        self.__client_list.append(new_client)"
   ]
  },
  {
   "cell_type": "code",
   "execution_count": 63,
   "metadata": {},
   "outputs": [
    {
     "name": "stdout",
     "output_type": "stream",
     "text": [
      "[]\n",
      "please add a client when setting a client\n",
      "['Kay', 'Gerry']\n"
     ]
    }
   ],
   "source": [
    "# we can't acess this attribute directly\n",
    "c4=Company(\"Bill\")\n",
    "print(c4.get_client_list())\n",
    "c4.set_client_list()\n",
    "c4.set_client_list(\"Kay\")\n",
    "c4.set_client_list(\"Gerry\")\n",
    "print(c4.get_client_list())"
   ]
  },
  {
   "cell_type": "markdown",
   "metadata": {},
   "source": [
    "# More -  Make your companies interact\n",
    "- In the tech world, the top talent can drive company success. \n",
    "- "
   ]
  }
 ],
 "metadata": {
  "kernelspec": {
   "display_name": "Python 3",
   "language": "python",
   "name": "python3"
  },
  "language_info": {
   "codemirror_mode": {
    "name": "ipython",
    "version": 3
   },
   "file_extension": ".py",
   "mimetype": "text/x-python",
   "name": "python",
   "nbconvert_exporter": "python",
   "pygments_lexer": "ipython3",
   "version": "3.6.1"
  }
 },
 "nbformat": 4,
 "nbformat_minor": 2
}
