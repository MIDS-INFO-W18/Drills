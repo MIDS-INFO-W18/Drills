{
 "cells": [
  {
   "cell_type": "markdown",
   "metadata": {},
   "source": [
    "## OOP basic to not so basic drills  (Week 7-8)  \n",
    "\n",
    "In this book we will build up a vitual startup company to practice the basic concepts in Object oriented programming (OOP). The drills will be progressive and follow the lecture material closely\n"
   ]
  },
  {
   "cell_type": "markdown",
   "metadata": {
    "collapsed": true
   },
   "source": [
    "# basic class structure 7.04 - 7.06\n",
    "\n",
    "- Make a class \"company\"\n",
    "\n",
    "1- give it a docstring that describes the intent and fuction of the class\n",
    "\n",
    "2- make the methods to add some attributes on demand\n",
    "\n",
    "    add_employee_name \n",
    "    \n",
    "    add_funding\n",
    "    \n",
    "The methods should intake self and a default value (i.e. employee_name=\"unnammed\" or amount=0)\n",
    "\n",
    "- For the add emploee method; append the new name to the list and add one to the employee count\n",
    "\n",
    "- For the funding amout append it to the list and increment the amount to the funding total\n",
    "\n",
    "- don't bother with an __init__() method yet"
   ]
  },
  {
   "cell_type": "code",
   "execution_count": 1,
   "metadata": {
    "collapsed": true
   },
   "outputs": [],
   "source": [
    "class Company():\n",
    "    ''''''\n",
    "    employee_list=[]\n",
    "    employee_count=1\n",
    "    funding_list=[]\n",
    "    \n",
    "    #Update these methods\n",
    "    def add_employee_name(): \n",
    "    \n",
    "\n",
    "    def add_funding():\n",
    "        "
   ]
  },
  {
   "cell_type": "code",
   "execution_count": 2,
   "metadata": {},
   "outputs": [
    {
     "name": "stdout",
     "output_type": "stream",
     "text": [
      "your funding addition was 10000000\n",
      "Total funding is 10000000\n",
      "your funding addition was 50000\n",
      "Total funding is 10050000\n"
     ]
    }
   ],
   "source": [
    "# try out your class with this code\n",
    "\n",
    "c1=Company()\n",
    "c1.add_employee_name(\"Gunnar\")\n",
    "\n",
    "c2=Company()\n",
    "c2.add_funding(10000000)\n",
    "c2.add_funding(50000)"
   ]
  },
  {
   "cell_type": "markdown",
   "metadata": {},
   "source": [
    "# Note that only company 2 got funding but company 1 also shows the same funding amount. Why is this?"
   ]
  },
  {
   "cell_type": "code",
   "execution_count": 3,
   "metadata": {},
   "outputs": [
    {
     "name": "stdout",
     "output_type": "stream",
     "text": [
      "True\n"
     ]
    },
    {
     "data": {
      "text/plain": [
       "[10000000, 50000]"
      ]
     },
     "execution_count": 3,
     "metadata": {},
     "output_type": "execute_result"
    }
   ],
   "source": [
    "print (sum(c2.funding_list) == sum(c1.funding_list))\n",
    "c1.funding_list"
   ]
  },
  {
   "cell_type": "markdown",
   "metadata": {
    "collapsed": true
   },
   "source": [
    "# Add an __init__ magic method to initlialze funding and employee data as instance (rather than class) attributes. \n",
    "\n",
    "- Require that one employee name is added at the opening of a company \n",
    "- Make the intital funding amount default to 0. \n",
    "- don't forget your self arguments; instance attributes need self arguments!\n",
    "\n",
    "\n",
    "- Enhance your add employee method; if the method is called without an argument and the default value (employee_name == \"unnammed\") is used then do not add unnamed to the list and print a message to instruct the user to add a name. \n"
   ]
  },
  {
   "cell_type": "code",
   "execution_count": 13,
   "metadata": {
    "collapsed": true
   },
   "outputs": [],
   "source": [
    "class Company():\n",
    "    ''''''\n",
    "    \n",
    "    def __init__():\n",
    "\n",
    "    \n",
    "    def add_employee_name(): \n",
    " \n",
    "            \n",
    "    def add_funding():\n",
    "           \n"
   ]
  },
  {
   "cell_type": "markdown",
   "metadata": {},
   "source": []
  },
  {
   "cell_type": "code",
   "execution_count": 14,
   "metadata": {},
   "outputs": [
    {
     "name": "stdout",
     "output_type": "stream",
     "text": [
      "don't forget to add an employee name!\n",
      "your funding addition was 10000000\n",
      "Total funding is 10000000\n",
      "your funding addition was 50000\n",
      "Total funding is 10050000\n"
     ]
    }
   ],
   "source": [
    "# try out your class with this code\n",
    "c1=Company(\"Gunnar\")\n",
    "c1.add_employee_name() # this should \n",
    "\n",
    "c2=Company(\"Chris\")\n",
    "c2.add_funding(10000000)\n",
    "c2.add_funding(50000)"
   ]
  },
  {
   "cell_type": "markdown",
   "metadata": {},
   "source": [
    "# Now the funding should correctly stay with the company that you put it in"
   ]
  },
  {
   "cell_type": "code",
   "execution_count": 15,
   "metadata": {},
   "outputs": [
    {
     "name": "stdout",
     "output_type": "stream",
     "text": [
      "False\n",
      "[]\n",
      "[10000000, 50000]\n"
     ]
    }
   ],
   "source": [
    "print (sum(c2.funding_list) == sum(c1.funding_list))\n",
    "print(c1.funding_list)\n",
    "print(c2.funding_list)"
   ]
  },
  {
   "cell_type": "markdown",
   "metadata": {},
   "source": [
    "# OK now that your company objects are working, lets add some SECRET company data!\n",
    "\n",
    "add a hidden attribute \"client_list\"\n",
    "\n",
    "- since the attribute is hidden add special getter and setter methods for the client list. \n",
    "\n",
    "- this allows us to work on hidden attributes in a controlled way.\n",
    "\n",
    "- in the future we can add an authentication layer to control access to these methods."
   ]
  },
  {
   "cell_type": "code",
   "execution_count": 42,
   "metadata": {
    "collapsed": true
   },
   "outputs": [],
   "source": [
    "class Company():\n",
    "    \n",
    "    '''''''\n",
    "    \n",
    "    def __init__():\n",
    "        \n",
    "    def add_employee_name(): \n",
    "        \n",
    "    def add_funding():\n",
    "              \n",
    "    def get_client_list():\n",
    "       \n",
    "    def set_client_list():\n",
    "        "
   ]
  },
  {
   "cell_type": "markdown",
   "metadata": {},
   "source": [
    "# Note that we can't acess this attribute directly"
   ]
  },
  {
   "cell_type": "code",
   "execution_count": 43,
   "metadata": {},
   "outputs": [
    {
     "ename": "AttributeError",
     "evalue": "'Company' object has no attribute '__client_list'",
     "output_type": "error",
     "traceback": [
      "\u001b[0;31m---------------------------------------------------------------------------\u001b[0m",
      "\u001b[0;31mAttributeError\u001b[0m                            Traceback (most recent call last)",
      "\u001b[0;32m<ipython-input-43-1bbe51a8ce5d>\u001b[0m in \u001b[0;36m<module>\u001b[0;34m()\u001b[0m\n\u001b[1;32m      1\u001b[0m \u001b[0mc3\u001b[0m\u001b[0;34m=\u001b[0m\u001b[0mCompany\u001b[0m\u001b[0;34m(\u001b[0m\u001b[0;34m\"Paul\"\u001b[0m\u001b[0;34m)\u001b[0m\u001b[0;34m\u001b[0m\u001b[0m\n\u001b[0;32m----> 2\u001b[0;31m \u001b[0mprint\u001b[0m\u001b[0;34m(\u001b[0m\u001b[0mc3\u001b[0m\u001b[0;34m.\u001b[0m\u001b[0m__client_list\u001b[0m\u001b[0;34m)\u001b[0m\u001b[0;34m\u001b[0m\u001b[0m\n\u001b[0m",
      "\u001b[0;31mAttributeError\u001b[0m: 'Company' object has no attribute '__client_list'"
     ]
    }
   ],
   "source": [
    "c3=Company(\"Paul\")\n",
    "print(c3.__client_list)"
   ]
  },
  {
   "cell_type": "markdown",
   "metadata": {},
   "source": [
    "# If we use the specific getter and setter that you wrote we can access the secret data."
   ]
  },
  {
   "cell_type": "code",
   "execution_count": 44,
   "metadata": {},
   "outputs": [
    {
     "name": "stdout",
     "output_type": "stream",
     "text": [
      "[]\n",
      "please add a client when setting a client\n",
      "['Nabisco', 'WunderBrush']\n"
     ]
    }
   ],
   "source": [
    "# we can't acess this attribute directly\n",
    "c4=Company(\"Bill\")\n",
    "print(c4.get_client_list())\n",
    "c4.set_client_list()\n",
    "c4.set_client_list(\"Nabisco\")\n",
    "c4.set_client_list(\"WunderBrush\")\n",
    "print(c4.get_client_list())"
   ]
  },
  {
   "cell_type": "markdown",
   "metadata": {},
   "source": [
    "# now use property decorators to experiment with another syntax to specify the getter and setter.\n",
    "\n",
    "- note the syntax differences required to operate the @property getter and setter versus the custom getter and setter methods."
   ]
  },
  {
   "cell_type": "code",
   "execution_count": 45,
   "metadata": {
    "collapsed": true
   },
   "outputs": [],
   "source": [
    "class Company():\n",
    "    \n",
    "  # use the previous code and modify it..."
   ]
  },
  {
   "cell_type": "code",
   "execution_count": 48,
   "metadata": {},
   "outputs": [
    {
     "name": "stdout",
     "output_type": "stream",
     "text": [
      "[]\n",
      "['Nabisco', 'WunderBrush']\n"
     ]
    }
   ],
   "source": [
    "c4=Company(\"Bill\")\n",
    "print(c4.clientlist)\n",
    "c4.clientlist =\"Nabisco\"\n",
    "c4.clientlist=\"WunderBrush\"\n",
    "print(c4.clientlist)"
   ]
  },
  {
   "cell_type": "markdown",
   "metadata": {},
   "source": [
    "# Week 8 inheritence and polymorphism\n",
    " - since companies work in different domains lets rebuild our company into a heirarcy of company types stemming from the abstract base calss company\n",
    " \n",
    " - write the abstract base classs company and two child companies classes \"finance_co\" and \"entertain_co\""
   ]
  },
  {
   "cell_type": "code",
   "execution_count": null,
   "metadata": {
    "collapsed": true
   },
   "outputs": [],
   "source": [
    "\n",
    "\n"
   ]
  },
  {
   "cell_type": "code",
   "execution_count": null,
   "metadata": {
    "collapsed": true
   },
   "outputs": [],
   "source": [
    "# give "
   ]
  },
  {
   "cell_type": "code",
   "execution_count": null,
   "metadata": {
    "collapsed": true
   },
   "outputs": [],
   "source": []
  },
  {
   "cell_type": "markdown",
   "metadata": {},
   "source": [
    "# More -  Make your companies interact\n",
    "- In the tech world, the top talent can drive company success by stealing workers and clinets. rebuild your company object so workers and clients can move between companies."
   ]
  }
 ],
 "metadata": {
  "kernelspec": {
   "display_name": "Python 3",
   "language": "python",
   "name": "python3"
  },
  "language_info": {
   "codemirror_mode": {
    "name": "ipython",
    "version": 3
   },
   "file_extension": ".py",
   "mimetype": "text/x-python",
   "name": "python",
   "nbconvert_exporter": "python",
   "pygments_lexer": "ipython3",
   "version": "3.6.1"
  }
 },
 "nbformat": 4,
 "nbformat_minor": 2
}
