{
 "cells": [
  {
   "cell_type": "markdown",
   "metadata": {},
   "source": [
    "## Drill 6.13 - modules and imports"
   ]
  },
  {
   "cell_type": "markdown",
   "metadata": {},
   "source": [
    "In the progression from a single .py file to an entire program using modules and libraries, we think about grouping functionally-related code and storing the .py files in functionally-related folders.  For instance, perhaps store all things related to staff and payroll in a staff_info folder; convert that folder into a package.  Let's take the first step by writing a python script, storing it in a .py file, and then creating another script that calls or imports that file.  Run the below script; create your own as a standalone .py file and use the ! to import it."
   ]
  },
  {
   "cell_type": "code",
   "execution_count": 3,
   "metadata": {},
   "outputs": [],
   "source": [
    "#datetime test\n",
    "import datetime\n",
    "\n",
    "x = datetime.datetime.now()\n",
    "\n",
    "humanDate = x.strftime(\"%A\")+\", \"+x.strftime(\"%B\")+\" \"+x.strftime(\"%d\")+\",\"+x.strftime(\"%Y\")\n"
   ]
  },
  {
   "cell_type": "markdown",
   "metadata": {},
   "source": [
    "Now create a script of your own that -imports- the datetime.py.  Have your script print the variable \"humanDate\"."
   ]
  },
  {
   "cell_type": "code",
   "execution_count": null,
   "metadata": {},
   "outputs": [],
   "source": [
    "import datetime.py\n",
    "# now continue on your own\n"
   ]
  },
  {
   "cell_type": "markdown",
   "metadata": {},
   "source": [
    "Just where did you put that datetime.py file?  Use the sys library and then sys.path to see what is where ..."
   ]
  },
  {
   "cell_type": "code",
   "execution_count": 2,
   "metadata": {},
   "outputs": [
    {
     "name": "stdout",
     "output_type": "stream",
     "text": [
      "    October 2018      \r\n",
      "Su Mo Tu We Th Fr Sa  \r\n",
      "    1  2  3  4  5 \u001b[7m 6\u001b[m  \r\n",
      " 7  8  9 10 11 12 13  \r\n",
      "14 15 16 17 18 19 20  \r\n",
      "21 22 23 24 25 26 27  \r\n",
      "28 29 30 31           \r\n",
      "                      \r\n"
     ]
    }
   ],
   "source": [
    "# What does the ! do, anyway?  \n",
    "# try this command and see what happens.  Why?  Where does the \"cal\" command come from?\n",
    "!cal"
   ]
  },
  {
   "cell_type": "code",
   "execution_count": null,
   "metadata": {},
   "outputs": [],
   "source": []
  }
 ],
 "metadata": {
  "kernelspec": {
   "display_name": "Python 3",
   "language": "python",
   "name": "python3"
  },
  "language_info": {
   "codemirror_mode": {
    "name": "ipython",
    "version": 3
   },
   "file_extension": ".py",
   "mimetype": "text/x-python",
   "name": "python",
   "nbconvert_exporter": "python",
   "pygments_lexer": "ipython3",
   "version": "3.6.4"
  }
 },
 "nbformat": 4,
 "nbformat_minor": 2
}
