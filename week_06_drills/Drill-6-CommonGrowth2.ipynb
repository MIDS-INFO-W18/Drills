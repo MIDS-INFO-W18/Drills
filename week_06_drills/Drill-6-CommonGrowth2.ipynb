{
 "cells": [
  {
   "cell_type": "markdown",
   "metadata": {},
   "source": [
    "## More complexity examples.  \n",
    "We'll explore insert and merge sorts in upcoming drills.\n",
    "Measuring the worst case scenario is \"Big O\"; measuring the fastest, or \n",
    "lower-bound is Omega Notation; and the formal way of expressing both\n",
    "lower and upper bounds of an algorithm's running time is called\n",
    "Theta Notation.  We focus only on Big-O.\n"
   ]
  },
  {
   "cell_type": "markdown",
   "metadata": {},
   "source": [
    "O(n^2) or quadratic ...  Notice the # of \"for\" loops. This increases\n",
    "the number of times the inputs are processed ... turning  O(N2)’s runtime into the square of the input size. The runtime goes up faster than your input sizes, so processing time increases rapidly. This is usually when you iterate through multiple loops at the same time like so ... run this example:"
   ]
  },
  {
   "cell_type": "code",
   "execution_count": 7,
   "metadata": {},
   "outputs": [
    {
     "name": "stdout",
     "output_type": "stream",
     "text": [
      "31\n"
     ]
    }
   ],
   "source": [
    "# this is O(n^2).  Each for-loop is n; 2 of 'em make n2\n",
    "def ON2(input):\n",
    "    count = 0\n",
    "    for i in input:\n",
    "        count += 1\n",
    "        for j in input:\n",
    "            count += 1\n",
    "    return 1 + count\n",
    "\n",
    "print(ON2([1,2,3,4,5]))"
   ]
  },
  {
   "cell_type": "code",
   "execution_count": null,
   "metadata": {},
   "outputs": [],
   "source": [
    "# O(N3)is merely O(N2) with another exponent. \n",
    "# this snippet shows the difference by changing the exponent.\n",
    "def ON3(input):\n",
    "    count = 0\n",
    "    for i in input:\n",
    "        count += 1\n",
    "        for j in input:\n",
    "            count += 1\n",
    "            for k in input:\n",
    "                count +=1\n",
    "    return 1 + count\n",
    "\n",
    "print(ON3([1,2,3,4,5, 5,4,3,2,1]))"
   ]
  },
  {
   "cell_type": "markdown",
   "metadata": {},
   "source": [
    "This example is O(n^3) or cubic.  Often we have to manipulate matrices.  This can grow in size awfully fast ... "
   ]
  },
  {
   "cell_type": "code",
   "execution_count": null,
   "metadata": {},
   "outputs": [],
   "source": [
    "# the O(logN) increases as the input size goes up.\n",
    "# however, it increases the log of the input size; this means\n",
    "# you can expotentially increase your input size, without \n",
    "# linearly increasing the processing time to match.\n",
    "\n",
    "def OlogN(input):\n",
    "    def search(length, count):\n",
    "        count += 1\n",
    "        length /= 2\n",
    "        if length == 1 or length == 0:\n",
    "            return 1 + count\n",
    "        else:\n",
    "            return 1 + search(length, count)\n",
    "        return 1 + search(len(input), 1)"
   ]
  },
  {
   "cell_type": "code",
   "execution_count": null,
   "metadata": {},
   "outputs": [],
   "source": []
  },
  {
   "cell_type": "code",
   "execution_count": null,
   "metadata": {},
   "outputs": [],
   "source": []
  }
 ],
 "metadata": {
  "kernelspec": {
   "display_name": "Python 3",
   "language": "python",
   "name": "python3"
  },
  "language_info": {
   "codemirror_mode": {
    "name": "ipython",
    "version": 3
   },
   "file_extension": ".py",
   "mimetype": "text/x-python",
   "name": "python",
   "nbconvert_exporter": "python",
   "pygments_lexer": "ipython3",
   "version": "3.6.4"
  }
 },
 "nbformat": 4,
 "nbformat_minor": 2
}
