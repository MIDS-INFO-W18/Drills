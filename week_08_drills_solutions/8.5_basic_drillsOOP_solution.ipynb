{
 "cells": [
  {
   "cell_type": "markdown",
   "metadata": {},
   "source": [
    "## OOP basic to not so basic drills  (Week 7-8)  \n",
    "\n",
    "In this book we will build up a vitual startup company to practice the basic concepts in Object oriented programming (OOP). The drills will be progressive and follow the lecture material closely\n"
   ]
  },
  {
   "cell_type": "markdown",
   "metadata": {},
   "source": [
    "# Week 8 inheritence and polymorphism\n",
    " - since companies work in different domains lets rebuild our company into a heirarcy of company types stemming from the abstract base calss company\n",
    " \n",
    " - write the abstract base classs company and two child companies classes \"finance_co\" and \"entertain_co\""
   ]
  },
  {
   "cell_type": "code",
   "execution_count": 1,
   "metadata": {},
   "outputs": [],
   "source": [
    "class Company:\n",
    "    \n",
    "    def __init__(self, workers = 1):\n",
    "        self.workers = workers\n",
    "        self.clients = 0\n"
   ]
  },
  {
   "cell_type": "code",
   "execution_count": 2,
   "metadata": {},
   "outputs": [],
   "source": [
    "class Finance_Co(Company):\n",
    "    \n",
    "    def __init__(self, workers = 1):\n",
    "        super().__init__(workers)\n",
    "        self.type = 'Finance'"
   ]
  },
  {
   "cell_type": "code",
   "execution_count": 3,
   "metadata": {},
   "outputs": [],
   "source": [
    "class Entertain_Co(Company):\n",
    "    \n",
    "    def __init__(self, workers = 1):\n",
    "        super().__init__(workers)\n",
    "        self.type = 'Entertainment'"
   ]
  },
  {
   "cell_type": "code",
   "execution_count": 4,
   "metadata": {},
   "outputs": [],
   "source": [
    "e = Entertain_Co(3)"
   ]
  },
  {
   "cell_type": "code",
   "execution_count": 6,
   "metadata": {},
   "outputs": [
    {
     "data": {
      "text/plain": [
       "0"
      ]
     },
     "execution_count": 6,
     "metadata": {},
     "output_type": "execute_result"
    }
   ],
   "source": [
    "e.workers"
   ]
  },
  {
   "cell_type": "markdown",
   "metadata": {},
   "source": [
    "# More -  Make your companies interact\n",
    "- In the tech world, the top talent can drive company success by stealing workers and clinets. rebuild your company object so workers and clients can move between companies."
   ]
  },
  {
   "cell_type": "code",
   "execution_count": 21,
   "metadata": {},
   "outputs": [],
   "source": [
    "class Company:\n",
    "    \n",
    "    def __init__(self, workers = 1, clients = 0):\n",
    "        self.workers = workers\n",
    "        self.clients = clients\n",
    "        \n",
    "        \n",
    "    def transfer_workers(self, comp1, comp2, num):\n",
    "        \n",
    "        if comp1.workers - num > 0:\n",
    "            comp1.workers = comp1.workers - num\n",
    "            comp2.workers = comp2.workers + num\n",
    "        else:\n",
    "            print(\"Not enough workers in\", comp1.type, \"to transfer!\")\n",
    "            \n",
    "    def transfer_clients(self, comp1, comp2, num):\n",
    "        \n",
    "        if comp1.clients - num >= 0:\n",
    "            comp1.clients = comp1.clients - num\n",
    "            comp2.clients = comp2.clients + num\n",
    "        else:\n",
    "            print(\"Not enough clients in\", comp1.type, \"to transfer!\")\n",
    "        \n",
    "class Finance_Co(Company):\n",
    "    \n",
    "    def __init__(self, workers = 1, clients = 0):\n",
    "        super().__init__(workers, clients)\n",
    "        self.type = 'Finance'\n",
    "        \n",
    "class Entertain_Co(Company):\n",
    "    \n",
    "    def __init__(self, workers = 1, clients = 0):\n",
    "        super().__init__(workers, clients)\n",
    "        self.type = 'Entertainment'"
   ]
  },
  {
   "cell_type": "code",
   "execution_count": 22,
   "metadata": {},
   "outputs": [
    {
     "name": "stdout",
     "output_type": "stream",
     "text": [
      "Finance workers: 3\n",
      "Entertainment workers: 5\n"
     ]
    }
   ],
   "source": [
    "f = Finance_Co(3,1)\n",
    "e = Entertain_Co(5,3)\n",
    "\n",
    "print(\"Finance workers:\", f.workers)\n",
    "print(\"Entertainment workers:\", e.workers)"
   ]
  },
  {
   "cell_type": "code",
   "execution_count": 23,
   "metadata": {},
   "outputs": [
    {
     "name": "stdout",
     "output_type": "stream",
     "text": [
      "Finance workers: 2\n",
      "Entertainment workers: 6\n"
     ]
    }
   ],
   "source": [
    "f.transfer_workers(f, e, 1)\n",
    "\n",
    "print(\"Finance workers:\", f.workers)\n",
    "print(\"Entertainment workers:\", e.workers)"
   ]
  },
  {
   "cell_type": "code",
   "execution_count": 24,
   "metadata": {},
   "outputs": [
    {
     "name": "stdout",
     "output_type": "stream",
     "text": [
      "Not enough clients in Finance to transfer!\n"
     ]
    }
   ],
   "source": [
    "f.transfer_clients(f, e, 2)"
   ]
  }
 ],
 "metadata": {
  "kernelspec": {
   "display_name": "Python 3",
   "language": "python",
   "name": "python3"
  },
  "language_info": {
   "codemirror_mode": {
    "name": "ipython",
    "version": 3
   },
   "file_extension": ".py",
   "mimetype": "text/x-python",
   "name": "python",
   "nbconvert_exporter": "python",
   "pygments_lexer": "ipython3",
   "version": "3.6.7"
  }
 },
 "nbformat": 4,
 "nbformat_minor": 2
}
