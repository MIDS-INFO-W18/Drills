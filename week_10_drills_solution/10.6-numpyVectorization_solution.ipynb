{
 "cells": [
  {
   "cell_type": "markdown",
   "metadata": {},
   "source": [
    "<h3>Drill 10.6.1</h3> <ul><li>Vectorization</li><li>Multidimensional Arrays</li></ul><hr >\n",
    "<blockquote>These operations act upon entire set of values instead of individual items, making it a high-level programming model ... working on <i>aggregates</i>. </blockquote>"
   ]
  },
  {
   "cell_type": "code",
   "execution_count": 4,
   "metadata": {},
   "outputs": [
    {
     "data": {
      "text/plain": [
       "array([[ 8,  6,  6],\n",
       "       [ 4, 10,  6],\n",
       "       [ 4,  8,  4],\n",
       "       [10,  0,  6],\n",
       "       [12,  8,  6]])"
      ]
     },
     "execution_count": 4,
     "metadata": {},
     "output_type": "execute_result"
    }
   ],
   "source": [
    "#V ectorization helps us process lots of data quickly...  \n",
    "# Given a random array, let's square it. ... quickly.\n",
    "import numpy as np\n",
    "npArray = np.myArray2 = np.random.randint(7, size=(5, 3))\n",
    "npArray * 2"
   ]
  },
  {
   "cell_type": "markdown",
   "metadata": {},
   "source": [
    "Notice we can seemingly chain behaviors ... first square each value and then divide it by .5. (Why? Who knows! (grin))  Instead of using a <code>for loop</code> or some other technique, using NumPy allows us to write concise, fast-operating code.\n",
    "<code>npArray ** 2 / .05</code>"
   ]
  },
  {
   "cell_type": "code",
   "execution_count": 9,
   "metadata": {},
   "outputs": [
    {
     "data": {
      "text/plain": [
       "array([[320., 180., 180.],\n",
       "       [ 80., 500., 180.],\n",
       "       [ 80., 320.,  80.],\n",
       "       [500.,   0., 180.],\n",
       "       [720., 320., 180.]])"
      ]
     },
     "execution_count": 9,
     "metadata": {},
     "output_type": "execute_result"
    }
   ],
   "source": [
    "npArray ** 2 / .05"
   ]
  },
  {
   "cell_type": "markdown",
   "metadata": {},
   "source": [
    "In practice we might need to transform a bunch of data.  For instance, when data values between objects or phenomenon of interest are really close or small, we could do a log transformation on the data.  This is a common technique in data visualization.  So, let&rsquo;s say we have an array (myArray) ... let&rsquo;s transform the values by some rule (say the log).\n",
    "Using the <code>math</code> library ... let&rsquo;s apply a base<sub>2</sub> log to all the values in the array, npArray."
   ]
  },
  {
   "cell_type": "code",
   "execution_count": 15,
   "metadata": {},
   "outputs": [
    {
     "data": {
      "text/plain": [
       "1.5849625007211563"
      ]
     },
     "execution_count": 15,
     "metadata": {},
     "output_type": "execute_result"
    }
   ],
   "source": [
    "import math\n",
    "import numpy as np\n",
    "\n",
    "newArray = np.random.randint(7, size=(5, 3))\n",
    "\n",
    "def makeLog(val):\n",
    "    return (math.log(val,2))\n",
    "\n",
    "makeLog(3)\n",
    "# for this example, we are not passing the array but rather a value\n",
    "# from the array."
   ]
  },
  {
   "cell_type": "markdown",
   "metadata": {},
   "source": [
    "### multidimensional arrays ..."
   ]
  },
  {
   "cell_type": "code",
   "execution_count": 1,
   "metadata": {},
   "outputs": [
    {
     "name": "stdout",
     "output_type": "stream",
     "text": [
      "[[3 3 0 4 4]\n",
      " [0 1 2 1 3]\n",
      " [1 4 1 3 0]\n",
      " [4 0 3 2 0]\n",
      " [1 2 3 0 0]]\n"
     ]
    }
   ],
   "source": [
    "# for practice's sake, as described in the asynch, \n",
    "# let's create a 5 x 5 array\n",
    "import numpy as np\n",
    "fiveByFiveArray = np.random.randint(5, size=(5,5))\n",
    "print(fiveByFiveArray)"
   ]
  },
  {
   "cell_type": "markdown",
   "metadata": {},
   "source": [
    "Let&rsquo;s confirm the shape ... try <code>.shape</code>"
   ]
  },
  {
   "cell_type": "code",
   "execution_count": 2,
   "metadata": {},
   "outputs": [
    {
     "data": {
      "text/plain": [
       "(5, 5)"
      ]
     },
     "execution_count": 2,
     "metadata": {},
     "output_type": "execute_result"
    }
   ],
   "source": [
    "fiveByFiveArray.shape"
   ]
  },
  {
   "cell_type": "markdown",
   "metadata": {},
   "source": [
    "When determining what data to select for further processing, you might want to look for some criteria.  In this example, say we want to find the minimum value of a data set.  (e.g., we're integrating lots of data files and we're checking for what data groups to ignore)..."
   ]
  },
  {
   "cell_type": "code",
   "execution_count": 24,
   "metadata": {},
   "outputs": [
    {
     "data": {
      "text/plain": [
       "0"
      ]
     },
     "execution_count": 24,
     "metadata": {},
     "output_type": "execute_result"
    }
   ],
   "source": [
    "# what's the minimum value in this array?\n",
    "newArray.min()"
   ]
  },
  {
   "cell_type": "code",
   "execution_count": 25,
   "metadata": {},
   "outputs": [
    {
     "data": {
      "text/plain": [
       "5"
      ]
     },
     "execution_count": 25,
     "metadata": {},
     "output_type": "execute_result"
    }
   ],
   "source": [
    "# what's the max?\n",
    "newArray.max()"
   ]
  },
  {
   "cell_type": "code",
   "execution_count": 26,
   "metadata": {},
   "outputs": [
    {
     "data": {
      "text/plain": [
       "2.1066666666666665"
      ]
     },
     "execution_count": 26,
     "metadata": {},
     "output_type": "execute_result"
    }
   ],
   "source": [
    "# cool ... what's the variance of all these cool data?\n",
    "newArray.var()"
   ]
  },
  {
   "cell_type": "markdown",
   "metadata": {},
   "source": [
    "A cool thing to do is to multiple arrays together ... \n",
    "Since we have 2 arrays already [fiveByFiveArray and npArray], let's see what happens when we multiply them.  [It won't work 'cause one is 5x5 and the other is 5x3.]"
   ]
  },
  {
   "cell_type": "code",
   "execution_count": 28,
   "metadata": {},
   "outputs": [
    {
     "ename": "ValueError",
     "evalue": "operands could not be broadcast together with shapes (5,3) (5,5) ",
     "output_type": "error",
     "traceback": [
      "\u001b[0;31m---------------------------------------------------------------------------\u001b[0m",
      "\u001b[0;31mValueError\u001b[0m                                Traceback (most recent call last)",
      "\u001b[0;32m<ipython-input-28-bc9a494e3f19>\u001b[0m in \u001b[0;36m<module>\u001b[0;34m()\u001b[0m\n\u001b[0;32m----> 1\u001b[0;31m \u001b[0mnpArray\u001b[0m \u001b[0;34m*\u001b[0m \u001b[0mfiveByFiveArray\u001b[0m\u001b[0;34m\u001b[0m\u001b[0m\n\u001b[0m",
      "\u001b[0;31mValueError\u001b[0m: operands could not be broadcast together with shapes (5,3) (5,5) "
     ]
    }
   ],
   "source": [
    "npArray * fiveByFiveArray"
   ]
  },
  {
   "cell_type": "markdown",
   "metadata": {},
   "source": [
    "So, let's create two arrays of the same size and then multiply them."
   ]
  },
  {
   "cell_type": "code",
   "execution_count": 32,
   "metadata": {},
   "outputs": [
    {
     "name": "stdout",
     "output_type": "stream",
     "text": [
      "[[24  4  8]\n",
      " [16  3  0]\n",
      " [ 4  6 12]\n",
      " [18 12  3]\n",
      " [ 5  6  8]]\n"
     ]
    }
   ],
   "source": [
    "import numpy as np\n",
    "t1 = np.random.randint(7, size=(5, 3))\n",
    "t2 = np.random.randint(7, size=(5, 3))\n",
    "t3 = t1 * t2\n",
    "print(t3)"
   ]
  },
  {
   "cell_type": "markdown",
   "metadata": {},
   "source": [
    "<h6>Other ideas...</h6>  Ravel?"
   ]
  },
  {
   "cell_type": "code",
   "execution_count": 34,
   "metadata": {},
   "outputs": [
    {
     "name": "stdout",
     "output_type": "stream",
     "text": [
      "[4 2 4 4 1 3 1 2 2 6 6 1 5 6 4]\n"
     ]
    }
   ],
   "source": [
    "raveled = t1.ravel()\n",
    "print(raveled)"
   ]
  },
  {
   "cell_type": "code",
   "execution_count": 35,
   "metadata": {},
   "outputs": [],
   "source": [
    "#flattening?  Yes, let's see what happens when flatten a 5x5 into a one-dimensional list\n",
    "print(t1.flatten())\n"
   ]
  }
 ],
 "metadata": {
  "kernelspec": {
   "display_name": "Python 3",
   "language": "python",
   "name": "python3"
  },
  "language_info": {
   "codemirror_mode": {
    "name": "ipython",
    "version": 3
   },
   "file_extension": ".py",
   "mimetype": "text/x-python",
   "name": "python",
   "nbconvert_exporter": "python",
   "pygments_lexer": "ipython3",
   "version": "3.6.4"
  }
 },
 "nbformat": 4,
 "nbformat_minor": 2
}
