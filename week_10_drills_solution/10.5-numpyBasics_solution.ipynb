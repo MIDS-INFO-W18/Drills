{
 "cells": [
  {
   "cell_type": "markdown",
   "metadata": {},
   "source": [
    "### Drill 10.5.1 - Numpy drills "
   ]
  },
  {
   "cell_type": "markdown",
   "metadata": {},
   "source": [
    "First let's import the system library into a script and determine the version we're using.  What do you see?"
   ]
  },
  {
   "cell_type": "code",
   "execution_count": 2,
   "metadata": {},
   "outputs": [
    {
     "name": "stdout",
     "output_type": "stream",
     "text": [
      "3.6.4 |Anaconda custom (64-bit)| (default, Jan 16 2018, 12:04:33) \n",
      "[GCC 4.2.1 Compatible Clang 4.0.1 (tags/RELEASE_401/final)]\n"
     ]
    }
   ],
   "source": [
    "#answer\n",
    "import sys\n",
    "print(sys.version)"
   ]
  },
  {
   "cell_type": "markdown",
   "metadata": {},
   "source": [
    "<font color='red'>Import</font> numpy as np and confirm the version."
   ]
  },
  {
   "cell_type": "code",
   "execution_count": 2,
   "metadata": {},
   "outputs": [
    {
     "name": "stdout",
     "output_type": "stream",
     "text": [
      "1.14.3\n"
     ]
    }
   ],
   "source": [
    "import numpy as np\n",
    "print(np.__version__)"
   ]
  },
  {
   "cell_type": "markdown",
   "metadata": {},
   "source": [
    "Create an array using NumPy.  Assign the output to a var, called a, and print"
   ]
  },
  {
   "cell_type": "code",
   "execution_count": 4,
   "metadata": {},
   "outputs": [
    {
     "name": "stdout",
     "output_type": "stream",
     "text": [
      "[0 1 2 3 4 5 6 7 8 9]\n"
     ]
    }
   ],
   "source": [
    "import numpy as np\n",
    "a = np.arange(10)\n",
    "print(a)"
   ]
  },
  {
   "cell_type": "markdown",
   "metadata": {},
   "source": [
    "<font color='red'>Measures of central tendancy</font> (the total number of data points, min, max, standard deviation, variance) is the first step in using data.  Let's do this using Numpy and the list just created above. "
   ]
  },
  {
   "cell_type": "code",
   "execution_count": 19,
   "metadata": {},
   "outputs": [
    {
     "name": "stdout",
     "output_type": "stream",
     "text": [
      "mean: 8.0\n",
      "min : 0\n",
      "max : 16\n",
      "std : 4.898979485566356\n",
      "var : 24.0\n",
      "25\n"
     ]
    }
   ],
   "source": [
    "# [Answer]\n",
    "print(\"mean:\", a.mean())\n",
    "print(\"min :\", a.min())\n",
    "print(\"max :\", a.max())\n",
    "print(\"std :\", a.std())\n",
    "print(\"var :\", a.var())"
   ]
  },
  {
   "cell_type": "markdown",
   "metadata": {},
   "source": [
    "<h4>returning boolean expressions checking an np array</h4>\n",
    "Let&rsquo;s check whether an array contains desired values."
   ]
  },
  {
   "cell_type": "code",
   "execution_count": 6,
   "metadata": {},
   "outputs": [
    {
     "name": "stdout",
     "output_type": "stream",
     "text": [
      "[ 0  1  2  3  4  5  6  7  8  9 10 11 12 13 14 15 16]\n",
      "[ 0  3  6  9 12 15]\n"
     ]
    }
   ],
   "source": [
    "import numpy as np\n",
    "#create a range of values\n",
    "a = np.arange(17)\n",
    "print(a)\n",
    "# does this array contain odd values?\n",
    "print(a[a % 3 == 0])"
   ]
  },
  {
   "cell_type": "code",
   "execution_count": 8,
   "metadata": {},
   "outputs": [
    {
     "data": {
      "text/plain": [
       "array([ True, False, False,  True, False, False,  True, False, False,\n",
       "        True, False, False,  True, False, False,  True, False])"
      ]
     },
     "execution_count": 8,
     "metadata": {},
     "output_type": "execute_result"
    }
   ],
   "source": [
    "# yup!  So let's see ... \n",
    "a % 3 == 0"
   ]
  },
  {
   "cell_type": "markdown",
   "metadata": {},
   "source": [
    "<h4>NumPy runs a lot faster</h4>  <blockquote>A little optional fyi:  Numpy is based on Atlas, a library for linear algebra operations (see http://math-atlas.sourceforge.net/).  Numpy arrays are densely packed arrays of homogeneous type. Python lists, by contrast, are arrays of pointers to objects, even when all of them are of the same type. So, you get the benefits of <font color='red'>locality of reference</font>.  If we're summing integers, there's a specialized CPU vector operation (https://superuser.com/questions/1170062/whats-the-difference-between-a-superscalar-and-a-vector-processor).\n",
    "\n",
    "Also, many Numpy operations are implemented in C, avoiding the general cost of loops in Python, pointer indirection and per-element dynamic type checking. The speed boost depends on which operations you&rsquo;re performing, but a few orders of magnitude isn&rsquo;t uncommon in number crunching programs.</blockquote>"
   ]
  },
  {
   "cell_type": "code",
   "execution_count": 9,
   "metadata": {},
   "outputs": [
    {
     "name": "stdout",
     "output_type": "stream",
     "text": [
      "8.26 ms ± 30.3 µs per loop (mean ± std. dev. of 7 runs, 100 loops each)\n"
     ]
    }
   ],
   "source": [
    "# using Unix's \"timeit ... \"\n",
    "demoNp = np.arange(25000)\n",
    "%timeit [x for x in demoNp if x % 2 == 0]"
   ]
  },
  {
   "cell_type": "code",
   "execution_count": 10,
   "metadata": {},
   "outputs": [
    {
     "name": "stdout",
     "output_type": "stream",
     "text": [
      "CPU times: user 745 µs, sys: 282 µs, total: 1.03 ms\n",
      "Wall time: 477 µs\n"
     ]
    },
    {
     "data": {
      "text/plain": [
       "array([    0,     2,     4, ..., 24994, 24996, 24998])"
      ]
     },
     "execution_count": 10,
     "metadata": {},
     "output_type": "execute_result"
    }
   ],
   "source": [
    "%time demoNp[demoNp % 2 == 0]"
   ]
  },
  {
   "cell_type": "markdown",
   "metadata": {},
   "source": [
    "<h4>Get to know your np int types ... </h4><blockquote>See https://en.wikipedia.org/wiki/Integer_(computer_science) for more</blockquote>"
   ]
  },
  {
   "cell_type": "code",
   "execution_count": 14,
   "metadata": {},
   "outputs": [
    {
     "name": "stdout",
     "output_type": "stream",
     "text": [
      "<class 'numpy.ndarray'>\n",
      "int64\n"
     ]
    },
    {
     "data": {
      "text/plain": [
       "25.0"
      ]
     },
     "execution_count": 14,
     "metadata": {},
     "output_type": "execute_result"
    }
   ],
   "source": [
    "# using our demoNp\n",
    "print(type(demoNp))\n",
    "# and the int type...\n",
    "print(demoNp.dtype)\n",
    "# changing a to floats ... \n",
    "npa = np.arange(25)\n",
    "np.float64(25)"
   ]
  },
  {
   "cell_type": "code",
   "execution_count": 16,
   "metadata": {},
   "outputs": [
    {
     "name": "stdout",
     "output_type": "stream",
     "text": [
      "[ 0.  1.  2.  3.  4.  5.  6.  7.  8.  9. 10. 11. 12. 13. 14. 15. 16. 17.\n",
      " 18. 19. 20. 21. 22. 23. 24.]\n",
      "[ 0.  1.  2.  3.  4.  5.  6.  7.  8.  9. 10. 11. 12. 13. 14. 15. 16. 17.\n",
      " 18. 19. 20. 21. 22. 23. 24.]\n"
     ]
    }
   ],
   "source": [
    "print(np.float32(npa))\n",
    "# and 64?\n",
    "print(np.float64(npa))\n",
    "# converting an array to a number type"
   ]
  },
  {
   "cell_type": "code",
   "execution_count": 18,
   "metadata": {},
   "outputs": [
    {
     "data": {
      "text/plain": [
       "dtype('float64')"
      ]
     },
     "execution_count": 18,
     "metadata": {},
     "output_type": "execute_result"
    }
   ],
   "source": [
    "#Mixing types?\n",
    "np.array(range(20)).dtype\n",
    "np.array([1.0, 0, 2, 3]).dtype # and drop down to the most precise but \n",
    "# mixing more types can yield interesting results - here we add a boolean to floats and ints ...\n",
    "np.array([True, True, 0.1, 1, 2.5, 7]).dtype"
   ]
  },
  {
   "cell_type": "code",
   "execution_count": 32,
   "metadata": {},
   "outputs": [
    {
     "name": "stdout",
     "output_type": "stream",
     "text": [
      "25000\n",
      "<function size at 0x106aa5ea0>\n",
      "(25,)\n",
      "0\n",
      "24\n",
      "------------------------------------------------------------ \n",
      "linspace with endpoint:\n",
      "[0.         0.55555556 1.11111111 1.66666667 2.22222222 2.77777778\n",
      " 3.33333333 3.88888889 4.44444444 5.        ]\n",
      "------------------------------------------------------------ \n",
      "linspace without endpoint:\n",
      "[0.  0.5 1.  1.5 2.  2.5 3.  3.5 4.  4.5]\n",
      "------------------------------------------------------------ \n",
      "same data changed to ints:\n",
      "[0 0 1 1 2 2 3 3 4 5]\n"
     ]
    }
   ],
   "source": [
    "# let's explore some properties of arrays ... \n",
    "# recalling the demoNp - what's the # of elements in the array?\n",
    "print(demoNp.size)\n",
    "# using the np array from above ... what's its size?\n",
    "print(np.size)\n",
    "# and the shape of it?\n",
    "print(npa.shape)\n",
    "# what's the min/max\n",
    "print(npa.argmin()) # min\n",
    "print(npa.argmax()) # max\n",
    "print(\"-\"*60, \"\\nlinspace with endpoint:\")\n",
    "# let's explore linspace [https://docs.scipy.org/doc/numpy/reference/generated/numpy.linspace.html#numpy-linspace]\n",
    "print(np.linspace(0, 5, 10))\n",
    "# and we can exclude the right end point:\n",
    "print(\"-\"*60, \"\\nlinspace without endpoint:\")\n",
    "print(np.linspace(0, 5, 10, endpoint=False))\n",
    "# finally, let's set the type to int:\n",
    "print(\"-\"*60, \"\\nsame data changed to ints:\")\n",
    "print(np.linspace(0, 5, 10).astype(int))"
   ]
  },
  {
   "cell_type": "markdown",
   "metadata": {},
   "source": [
    "<h4>Whenever we clean data</h4> or perform work on our data, make sure the data are there!  We want to check for <font color='red'>not-a-number</font> or <b>nan</b>"
   ]
  },
  {
   "cell_type": "code",
   "execution_count": 38,
   "metadata": {},
   "outputs": [
    {
     "name": "stdout",
     "output_type": "stream",
     "text": [
      "nan\n",
      "nan\n",
      "nan\n",
      "nan\n"
     ]
    },
    {
     "name": "stderr",
     "output_type": "stream",
     "text": [
      "/anaconda3/lib/python3.6/site-packages/numpy/core/_methods.py:29: RuntimeWarning: invalid value encountered in reduce\n",
      "  return umr_minimum(a, axis, None, out, keepdims)\n",
      "/anaconda3/lib/python3.6/site-packages/numpy/core/_methods.py:26: RuntimeWarning: invalid value encountered in reduce\n",
      "  return umr_maximum(a, axis, None, out, keepdims)\n"
     ]
    }
   ],
   "source": [
    "# say we're importing data and we want to check for data being \"not a number\":\n",
    "# for demo, we need a nan value.  Not that we cannot convert float NaN to int.\n",
    "# note: python 3.6 and 3.7 are likely to throw a runtime warning ... \n",
    "ap = np.linspace(0, 10, 11)\n",
    "ap[0] = np.nan\n",
    "# okay, now let's see how we can track this nan...\n",
    "print(ap.min())\n",
    "print(ap.max())\n",
    "print(ap.min())\n",
    "print(ap.mean())"
   ]
  },
  {
   "cell_type": "code",
   "execution_count": null,
   "metadata": {},
   "outputs": [],
   "source": []
  }
 ],
 "metadata": {
  "kernelspec": {
   "display_name": "Python 3",
   "language": "python",
   "name": "python3"
  },
  "language_info": {
   "codemirror_mode": {
    "name": "ipython",
    "version": 3
   },
   "file_extension": ".py",
   "mimetype": "text/x-python",
   "name": "python",
   "nbconvert_exporter": "python",
   "pygments_lexer": "ipython3",
   "version": "3.6.4"
  }
 },
 "nbformat": 4,
 "nbformat_minor": 2
}
